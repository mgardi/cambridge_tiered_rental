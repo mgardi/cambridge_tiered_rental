{
 "cells": [
  {
   "cell_type": "markdown",
   "metadata": {
    "id": "3oP_7Cd2vV0i"
   },
   "source": [
    "## Rental owner clustering\n",
    "\n",
    "Clusters rental license properties by owner name and owner address fields (ownname1, ownname2, ownadd1, ownadd2).  Writes the result to a temporary file."
   ]
  },
  {
   "cell_type": "code",
   "execution_count": 1,
   "metadata": {
    "colab": {
     "base_uri": "https://localhost:8080/"
    },
    "executionInfo": {
     "elapsed": 5589,
     "status": "ok",
     "timestamp": 1622681496422,
     "user": {
      "displayName": "Greg Boss",
      "photoUrl": "https://lh3.googleusercontent.com/a-/AOh14GhhPRqwW_ulxUDi6EQAkiXmGudYqOEjCM8qKreBDbc=s64",
      "userId": "12328185785963342708"
     },
     "user_tz": 240
    },
    "id": "9vj0weNCiS4B",
    "outputId": "f2ece516-c973-411c-cb80-2f20c77987bc"
   },
   "outputs": [
    {
     "name": "stdout",
     "output_type": "stream",
     "text": [
      "Requirement already satisfied: leven in /usr/local/lib/python3.7/dist-packages (1.0.4)\n",
      "Requirement already satisfied: six in /usr/local/lib/python3.7/dist-packages (from leven) (1.15.0)\n",
      "Requirement already satisfied: nose in /usr/local/lib/python3.7/dist-packages (from leven) (1.3.7)\n",
      "Requirement already satisfied: ngram in /usr/local/lib/python3.7/dist-packages (3.3.2)\n"
     ]
    }
   ],
   "source": [
    "!pip install leven\n",
    "!pip install ngram"
   ]
  },
  {
   "cell_type": "code",
   "execution_count": 2,
   "metadata": {
    "executionInfo": {
     "elapsed": 332,
     "status": "ok",
     "timestamp": 1622681499439,
     "user": {
      "displayName": "Greg Boss",
      "photoUrl": "https://lh3.googleusercontent.com/a-/AOh14GhhPRqwW_ulxUDi6EQAkiXmGudYqOEjCM8qKreBDbc=s64",
      "userId": "12328185785963342708"
     },
     "user_tz": 240
    },
    "id": "OhhVbdVwBWvy"
   },
   "outputs": [],
   "source": [
    "import pandas as pd\n",
    "from pydrive.auth import GoogleAuth\n",
    "from pydrive.drive import GoogleDrive\n",
    "from google.colab import auth"
   ]
  },
  {
   "cell_type": "code",
   "execution_count": 3,
   "metadata": {
    "colab": {
     "base_uri": "https://localhost:8080/"
    },
    "executionInfo": {
     "elapsed": 115,
     "status": "ok",
     "timestamp": 1622681501193,
     "user": {
      "displayName": "Greg Boss",
      "photoUrl": "https://lh3.googleusercontent.com/a-/AOh14GhhPRqwW_ulxUDi6EQAkiXmGudYqOEjCM8qKreBDbc=s64",
      "userId": "12328185785963342708"
     },
     "user_tz": 240
    },
    "id": "tGicmBLfCw3w",
    "outputId": "46e743d6-ce69-48fe-9b99-5b417e3ba1e1"
   },
   "outputs": [
    {
     "name": "stdout",
     "output_type": "stream",
     "text": [
      "Drive already mounted at /content/drive; to attempt to forcibly remount, call drive.mount(\"/content/drive\", force_remount=True).\n"
     ]
    }
   ],
   "source": [
    "from google.colab import drive\n",
    "drive.mount('/content/drive')"
   ]
  },
  {
   "cell_type": "markdown",
   "metadata": {
    "id": "r2lAeRcwotDH"
   },
   "source": [
    "#### Get cleaned rental registration and join it to SDAT, limited to Cambridge vs Dorchester County"
   ]
  },
  {
   "cell_type": "code",
   "execution_count": 4,
   "metadata": {
    "executionInfo": {
     "elapsed": 110,
     "status": "ok",
     "timestamp": 1622681511120,
     "user": {
      "displayName": "Greg Boss",
      "photoUrl": "https://lh3.googleusercontent.com/a-/AOh14GhhPRqwW_ulxUDi6EQAkiXmGudYqOEjCM8qKreBDbc=s64",
      "userId": "12328185785963342708"
     },
     "user_tz": 240
    },
    "id": "ie7ZlG1Ip3fz"
   },
   "outputs": [],
   "source": [
    "rentals = pd.read_csv('/content/drive/My Drive/pita 2021/cleaned_rental_billing-2020-test.csv')\n",
    "rentals.acctid = rentals.acctid.astype(str)"
   ]
  },
  {
   "cell_type": "code",
   "execution_count": 5,
   "metadata": {
    "executionInfo": {
     "elapsed": 114,
     "status": "ok",
     "timestamp": 1622681512209,
     "user": {
      "displayName": "Greg Boss",
      "photoUrl": "https://lh3.googleusercontent.com/a-/AOh14GhhPRqwW_ulxUDi6EQAkiXmGudYqOEjCM8qKreBDbc=s64",
      "userId": "12328185785963342708"
     },
     "user_tz": 240
    },
    "id": "DzExDGiGXACp"
   },
   "outputs": [],
   "source": [
    "cambridge_apns = pd.read_csv('/content/drive/My Drive/SDAT/CAN-ref.csv')"
   ]
  },
  {
   "cell_type": "code",
   "execution_count": 6,
   "metadata": {
    "colab": {
     "base_uri": "https://localhost:8080/"
    },
    "executionInfo": {
     "elapsed": 1551,
     "status": "ok",
     "timestamp": 1622681514524,
     "user": {
      "displayName": "Greg Boss",
      "photoUrl": "https://lh3.googleusercontent.com/a-/AOh14GhhPRqwW_ulxUDi6EQAkiXmGudYqOEjCM8qKreBDbc=s64",
      "userId": "12328185785963342708"
     },
     "user_tz": 240
    },
    "id": "3UqKn1EZe7uX",
    "outputId": "9ffd47aa-c513-43b5-fd51-e65268170e69"
   },
   "outputs": [
    {
     "name": "stderr",
     "output_type": "stream",
     "text": [
      "/usr/local/lib/python3.7/dist-packages/IPython/core/interactiveshell.py:2718: DtypeWarning: Columns (8,11,12,13,14,15,16,29,38,45,49,52,53,77,82,86,104,106,112,113,129,137) have mixed types.Specify dtype option on import or set low_memory=False.\n",
      "  interactivity=interactivity, compiler=compiler, result=result)\n"
     ]
    },
    {
     "name": "stdout",
     "output_type": "stream",
     "text": [
      "There are  67 properties that don't match SDAT in the CAN ref.\n",
      "None of these types impact the analysys? ['UNDEVELOPED_HOUSING', 'COMMERCIAL', 'CITY_OF_CAMBRIDGE', 'OTHER', 'DORCHESTER_COUNTY', 'AGRICULTURE', 'HOUSING']\n"
     ]
    }
   ],
   "source": [
    "sdat = pd.read_csv('drive/My Drive/pita 2021/SDAT-CAN-ref-202105.csv')\n",
    "\n",
    "# make sure the acctid is in the right format, and limit the results to just Cambridge\n",
    "sdat.acctid = sdat.acctid.apply(lambda x: str(x).strip())\n",
    "sdat = sdat.merge(cambridge_apns,on='acctid',how='outer',indicator=True)\n",
    "xtra_apns = sdat.query('_merge == \"right_only\"')\n",
    "xtra_categories = list(xtra_apns.CAN_OWNCLASS.unique())\n",
    "print(\"There are \",len(xtra_apns), \"properties that don't match SDAT in the CAN ref.\")\n",
    "print(\"None of these types impact the analysys?\",xtra_categories)\n",
    "sdat = sdat.query('_merge == \"both\"').drop(columns='_merge')"
   ]
  },
  {
   "cell_type": "code",
   "execution_count": 7,
   "metadata": {
    "colab": {
     "base_uri": "https://localhost:8080/"
    },
    "executionInfo": {
     "elapsed": 610,
     "status": "ok",
     "timestamp": 1622681516233,
     "user": {
      "displayName": "Greg Boss",
      "photoUrl": "https://lh3.googleusercontent.com/a-/AOh14GhhPRqwW_ulxUDi6EQAkiXmGudYqOEjCM8qKreBDbc=s64",
      "userId": "12328185785963342708"
     },
     "user_tz": 240
    },
    "id": "2m32XNztjPQu",
    "outputId": "2a10b79c-82e2-451a-f583-b26b9106820d"
   },
   "outputs": [
    {
     "name": "stdout",
     "output_type": "stream",
     "text": [
      "WARNING: 10 didn't resolve!\n"
     ]
    }
   ],
   "source": [
    "print(\"WARNING:\",len(rentals.drop(columns='address').merge(sdat,on='acctid',how='outer',indicator=True).query('_merge == \"left_only\"')),\"didn't resolve!\")\n",
    "rentals = rentals.drop(columns='address').merge(sdat,on='acctid',how='inner')"
   ]
  },
  {
   "cell_type": "markdown",
   "metadata": {
    "id": "Cf4yq6iwovwc"
   },
   "source": [
    "## Clustering rentals on owners requires joining with SDAT first"
   ]
  },
  {
   "cell_type": "code",
   "execution_count": 8,
   "metadata": {
    "executionInfo": {
     "elapsed": 837,
     "status": "ok",
     "timestamp": 1622681521956,
     "user": {
      "displayName": "Greg Boss",
      "photoUrl": "https://lh3.googleusercontent.com/a-/AOh14GhhPRqwW_ulxUDi6EQAkiXmGudYqOEjCM8qKreBDbc=s64",
      "userId": "12328185785963342708"
     },
     "user_tz": 240
    },
    "id": "3DB8DGEcWJyU"
   },
   "outputs": [],
   "source": [
    "!cp \"drive/My Drive/pita 2021/text_cluster.py\" .\n",
    "from text_cluster import assign_clusters\n",
    "from text_cluster import text_similarity\n",
    "from text_cluster import cluster_strings"
   ]
  },
  {
   "cell_type": "markdown",
   "metadata": {
    "id": "d9xtIg6hD5s_"
   },
   "source": [
    "####Cluster the rental licenses\n",
    "Assign clusters by owner name and owner address"
   ]
  },
  {
   "cell_type": "code",
   "execution_count": 9,
   "metadata": {
    "colab": {
     "base_uri": "https://localhost:8080/"
    },
    "executionInfo": {
     "elapsed": 359750,
     "status": "ok",
     "timestamp": 1622681886037,
     "user": {
      "displayName": "Greg Boss",
      "photoUrl": "https://lh3.googleusercontent.com/a-/AOh14GhhPRqwW_ulxUDi6EQAkiXmGudYqOEjCM8qKreBDbc=s64",
      "userId": "12328185785963342708"
     },
     "user_tz": 240
    },
    "id": "8BIP-gvE33Ai",
    "outputId": "e0bd3883-8659-4448-c275-da604f8aa5de"
   },
   "outputs": [
    {
     "name": "stdout",
     "output_type": "stream",
     "text": [
      "rows: 1524 clusters: 171\n",
      "rows: 1524 clusters: 157\n",
      "CPU times: user 6min 28s, sys: 33 s, total: 7min 1s\n",
      "Wall time: 5min 59s\n"
     ]
    }
   ],
   "source": [
    "%%time\n",
    "owner_names = cluster_strings(rentals.ownname1.array,'o_name',metric='jaccard',threshold=0.1)\n",
    "owner_addresses = cluster_strings(rentals.ownadd1.astype(str).array,'o_address',metric='jaccard',threshold=0.1)"
   ]
  },
  {
   "cell_type": "code",
   "execution_count": 10,
   "metadata": {
    "colab": {
     "base_uri": "https://localhost:8080/",
     "height": 450
    },
    "executionInfo": {
     "elapsed": 1814,
     "status": "ok",
     "timestamp": 1622682165806,
     "user": {
      "displayName": "Greg Boss",
      "photoUrl": "https://lh3.googleusercontent.com/a-/AOh14GhhPRqwW_ulxUDi6EQAkiXmGudYqOEjCM8qKreBDbc=s64",
      "userId": "12328185785963342708"
     },
     "user_tz": 240
    },
    "id": "C2HmsC4O4-P3",
    "outputId": "d28eabd7-6338-45c3-9da9-f73bf86e20c4"
   },
   "outputs": [
    {
     "data": {
      "text/html": [
       "<div>\n",
       "<style scoped>\n",
       "    .dataframe tbody tr th:only-of-type {\n",
       "        vertical-align: middle;\n",
       "    }\n",
       "\n",
       "    .dataframe tbody tr th {\n",
       "        vertical-align: top;\n",
       "    }\n",
       "\n",
       "    .dataframe thead th {\n",
       "        text-align: right;\n",
       "    }\n",
       "</style>\n",
       "<table border=\"1\" class=\"dataframe\">\n",
       "  <thead>\n",
       "    <tr style=\"text-align: right;\">\n",
       "      <th></th>\n",
       "      <th>owneradd_cluster</th>\n",
       "      <th>owner_cluster</th>\n",
       "    </tr>\n",
       "    <tr>\n",
       "      <th>acctid</th>\n",
       "      <th></th>\n",
       "      <th></th>\n",
       "    </tr>\n",
       "  </thead>\n",
       "  <tbody>\n",
       "    <tr>\n",
       "      <th>1007104057</th>\n",
       "      <td>183</td>\n",
       "      <td>201</td>\n",
       "    </tr>\n",
       "    <tr>\n",
       "      <th>1007104073</th>\n",
       "      <td>1</td>\n",
       "      <td>4</td>\n",
       "    </tr>\n",
       "    <tr>\n",
       "      <th>1007104294</th>\n",
       "      <td>1</td>\n",
       "      <td>4</td>\n",
       "    </tr>\n",
       "    <tr>\n",
       "      <th>1007104324</th>\n",
       "      <td>89</td>\n",
       "      <td>96</td>\n",
       "    </tr>\n",
       "    <tr>\n",
       "      <th>1007104340</th>\n",
       "      <td>328</td>\n",
       "      <td>365</td>\n",
       "    </tr>\n",
       "    <tr>\n",
       "      <th>...</th>\n",
       "      <td>...</td>\n",
       "      <td>...</td>\n",
       "    </tr>\n",
       "    <tr>\n",
       "      <th>1007231407</th>\n",
       "      <td>147</td>\n",
       "      <td>157</td>\n",
       "    </tr>\n",
       "    <tr>\n",
       "      <th>1007231490</th>\n",
       "      <td>578</td>\n",
       "      <td>645</td>\n",
       "    </tr>\n",
       "    <tr>\n",
       "      <th>1007239653</th>\n",
       "      <td>542</td>\n",
       "      <td>597</td>\n",
       "    </tr>\n",
       "    <tr>\n",
       "      <th>1007286611</th>\n",
       "      <td>148</td>\n",
       "      <td>159</td>\n",
       "    </tr>\n",
       "    <tr>\n",
       "      <th>1007286613</th>\n",
       "      <td>634</td>\n",
       "      <td>159</td>\n",
       "    </tr>\n",
       "  </tbody>\n",
       "</table>\n",
       "<p>1477 rows × 2 columns</p>\n",
       "</div>"
      ],
      "text/plain": [
       "            owneradd_cluster  owner_cluster\n",
       "acctid                                     \n",
       "1007104057               183            201\n",
       "1007104073                 1              4\n",
       "1007104294                 1              4\n",
       "1007104324                89             96\n",
       "1007104340               328            365\n",
       "...                      ...            ...\n",
       "1007231407               147            157\n",
       "1007231490               578            645\n",
       "1007239653               542            597\n",
       "1007286611               148            159\n",
       "1007286613               634            159\n",
       "\n",
       "[1477 rows x 2 columns]"
      ]
     },
     "execution_count": 10,
     "metadata": {
      "tags": []
     },
     "output_type": "execute_result"
    }
   ],
   "source": [
    "def best_cluster(cnumbers):\n",
    "  if len(cnumbers) > 1 and cnumbers.index[0] < 0:\n",
    "    return cnumbers.index[1]\n",
    "  else:\n",
    "    return cnumbers.index[0]\n",
    "\n",
    "rentals['owner_cluster'] = rentals.apply(lambda x: owner_names.get(x.ownname1,-1), axis=1)\n",
    "rentals['owneradd_cluster'] = rentals.apply(lambda x: owner_addresses.get(x.ownadd1,-1), axis=1)\n",
    "rentals[['acctid','ownname1','owner_cluster','ownadd1','owneradd_cluster']]\n",
    "\n",
    "    \n",
    "ro_df = pd.DataFrame(rentals.groupby(['acctid'])['owneradd_cluster'].agg(lambda x:best_cluster(x.value_counts())))#.to_dict()\n",
    "roadd_c = rentals.groupby(['acctid'])['owner_cluster'].agg(lambda x:best_cluster(x.value_counts()))\n",
    "ro_df = ro_df.merge(roadd_c,left_index=True,right_index=True)\n",
    "ro_df"
   ]
  },
  {
   "cell_type": "markdown",
   "metadata": {
    "id": "0x7H6L8M57KW"
   },
   "source": [
    "#### Save rental clusters"
   ]
  },
  {
   "cell_type": "code",
   "execution_count": 11,
   "metadata": {
    "executionInfo": {
     "elapsed": 585,
     "status": "ok",
     "timestamp": 1622682168938,
     "user": {
      "displayName": "Greg Boss",
      "photoUrl": "https://lh3.googleusercontent.com/a-/AOh14GhhPRqwW_ulxUDi6EQAkiXmGudYqOEjCM8qKreBDbc=s64",
      "userId": "12328185785963342708"
     },
     "user_tz": 240
    },
    "id": "5p2wXYbm9clt"
   },
   "outputs": [],
   "source": [
    "ro_df.to_csv('drive/My Drive/pita 2021/rental_clusters.csv')"
   ]
  },
  {
   "cell_type": "code",
   "execution_count": null,
   "metadata": {
    "id": "d25KY54XEhe4"
   },
   "outputs": [],
   "source": []
  }
 ],
 "metadata": {
  "colab": {
   "authorship_tag": "ABX9TyP/kice7io4kzoEzGWBEnv7",
   "collapsed_sections": [],
   "mount_file_id": "1iGic_GYYkS3tuzdBQyNZOMSXFbRFGz9W",
   "name": "license-clustering.ipynb",
   "provenance": [
    {
     "file_id": "1LN5fOt7Dop3L_Fp92UQGjySwusOtQPNj",
     "timestamp": 1598802241492
    }
   ]
  },
  "kernelspec": {
   "display_name": "Python 3",
   "language": "python",
   "name": "python3"
  },
  "language_info": {
   "codemirror_mode": {
    "name": "ipython",
    "version": 3
   },
   "file_extension": ".py",
   "mimetype": "text/x-python",
   "name": "python",
   "nbconvert_exporter": "python",
   "pygments_lexer": "ipython3",
   "version": "3.8.5"
  }
 },
 "nbformat": 4,
 "nbformat_minor": 1
}
