{
 "cells": [
  {
   "cell_type": "markdown",
   "metadata": {
    "id": "3oP_7Cd2vV0i"
   },
   "source": [
    "## COMCATE code enforcement violation summary  \n",
    "Accepts standard report of annual code violations, by violation event number keyed by apn ('acctid').  This report may have multiple voilations per event, and this notebook splits those out to be counted.\n",
    "\n",
    "Scoring the violations will require adding a table mapping violation type to scoring weight.  The current verions just counts all the violations up, as equal.\n",
    "\n",
    "The bottom of this sheet clusters the violations by point of contact, and writes that out to a file for later use in group calculations.\n"
   ]
  },
  {
   "cell_type": "code",
   "execution_count": 1,
   "metadata": {},
   "outputs": [],
   "source": [
    "##\n",
    "# Set Values to run locally or in google drive\n",
    "## \n",
    "# TODO: Set environment dynamically \n",
    "enviro = 'dev'\n",
    "local_folder = '~/projects/'"
   ]
  },
  {
   "cell_type": "code",
   "execution_count": 17,
   "metadata": {},
   "outputs": [],
   "source": [
    "####\n",
    "# Set Latest File Names\n",
    "####\n",
    "rentals_fn = 'fixed_up_rental_billing_2020.csv'\n",
    "# TODO: File does not exist not adding historical  \n",
    "past_cambridge_apns_fn = 'geocoding/CAN-ref.csv'\n",
    "sdat_fn = 'SDAT-CAN-ref-202105.csv'\n",
    "violations_fn = 'violations/Cambridge_MD_Internal_Apps_Case_Report_0505-0603_21.xlsx'"
   ]
  },
  {
   "cell_type": "code",
   "execution_count": 18,
   "metadata": {
    "colab": {
     "base_uri": "https://localhost:8080/"
    },
    "executionInfo": {
     "elapsed": 15483,
     "status": "ok",
     "timestamp": 1623237433732,
     "user": {
      "displayName": "Greg Boss",
      "photoUrl": "https://lh3.googleusercontent.com/a-/AOh14GhhPRqwW_ulxUDi6EQAkiXmGudYqOEjCM8qKreBDbc=s64",
      "userId": "12328185785963342708"
     },
     "user_tz": 240
    },
    "id": "j1jhCxhK0AYh",
    "outputId": "e0853e88-73b9-4486-80c0-0a47c33b4abc"
   },
   "outputs": [
    {
     "name": "stdout",
     "output_type": "stream",
     "text": [
      "Requirement already satisfied: leven in /opt/anaconda3/lib/python3.8/site-packages (1.0.4)\n",
      "Requirement already satisfied: six in /opt/anaconda3/lib/python3.8/site-packages (from leven) (1.15.0)\n",
      "Requirement already satisfied: nose in /opt/anaconda3/lib/python3.8/site-packages (from leven) (1.3.7)\n",
      "Requirement already satisfied: simpledbf in /opt/anaconda3/lib/python3.8/site-packages (0.2.6)\n",
      "Requirement already satisfied: ngram in /opt/anaconda3/lib/python3.8/site-packages (3.3.2)\n"
     ]
    }
   ],
   "source": [
    "###\n",
    "# Check that package requirments are satisfied \n",
    "###\n",
    "!pip install leven\n",
    "!pip install simpledbf\n",
    "!pip install ngram"
   ]
  },
  {
   "cell_type": "code",
   "execution_count": 19,
   "metadata": {
    "executionInfo": {
     "elapsed": 464,
     "status": "ok",
     "timestamp": 1623237434194,
     "user": {
      "displayName": "Greg Boss",
      "photoUrl": "https://lh3.googleusercontent.com/a-/AOh14GhhPRqwW_ulxUDi6EQAkiXmGudYqOEjCM8qKreBDbc=s64",
      "userId": "12328185785963342708"
     },
     "user_tz": 240
    },
    "id": "OhhVbdVwBWvy"
   },
   "outputs": [],
   "source": [
    "import pandas as pd\n",
    "from simpledbf import Dbf5\n",
    "\n",
    "if enviro == 'dev':\n",
    "    # set local data file path \n",
    "    path = local_folder + 'cambridge_pita/cambridge_tiered_rental/data/'\n",
    "else: \n",
    "    from pydrive.auth import GoogleAuth\n",
    "    from pydrive.drive import GoogleDrive\n",
    "    from google.colab import auth\n",
    "    # set google drive Data file path \n",
    "    path = '/content/drive/My Drive/pita 2021/'\n",
    "    \n",
    "    from google.colab import drive\n",
    "    drive.mount('/content/drive')"
   ]
  },
  {
   "cell_type": "markdown",
   "metadata": {
    "id": "__7zmAN9h_1Z"
   },
   "source": [
    "## Load the registerd rentals property dataset"
   ]
  },
  {
   "cell_type": "code",
   "execution_count": 20,
   "metadata": {
    "colab": {
     "base_uri": "https://localhost:8080/",
     "height": 691
    },
    "executionInfo": {
     "elapsed": 312,
     "status": "ok",
     "timestamp": 1623237434505,
     "user": {
      "displayName": "Greg Boss",
      "photoUrl": "https://lh3.googleusercontent.com/a-/AOh14GhhPRqwW_ulxUDi6EQAkiXmGudYqOEjCM8qKreBDbc=s64",
      "userId": "12328185785963342708"
     },
     "user_tz": 240
    },
    "id": "EABzF1AHDQpW",
    "outputId": "c05441a5-4e70-4468-fb72-834479f29225"
   },
   "outputs": [],
   "source": [
    "rentals = pd.read_csv(path+rentals_fn)"
   ]
  },
  {
   "cell_type": "markdown",
   "metadata": {
    "id": "rnkbauzdqpQL"
   },
   "source": [
    "## Load MD SDAT (real property search)\n",
    "#### Enrich the billing data with columns from prior year(s)"
   ]
  },
  {
   "cell_type": "code",
   "execution_count": 21,
   "metadata": {
    "executionInfo": {
     "elapsed": 184,
     "status": "ok",
     "timestamp": 1623237434688,
     "user": {
      "displayName": "Greg Boss",
      "photoUrl": "https://lh3.googleusercontent.com/a-/AOh14GhhPRqwW_ulxUDi6EQAkiXmGudYqOEjCM8qKreBDbc=s64",
      "userId": "12328185785963342708"
     },
     "user_tz": 240
    },
    "id": "n4OD0rtMpi9e"
   },
   "outputs": [],
   "source": [
    "cambridge_apns = pd.read_csv(path+past_cambridge_apns_fn)"
   ]
  },
  {
   "cell_type": "code",
   "execution_count": 22,
   "metadata": {
    "colab": {
     "base_uri": "https://localhost:8080/"
    },
    "executionInfo": {
     "elapsed": 2419,
     "status": "ok",
     "timestamp": 1623237442261,
     "user": {
      "displayName": "Greg Boss",
      "photoUrl": "https://lh3.googleusercontent.com/a-/AOh14GhhPRqwW_ulxUDi6EQAkiXmGudYqOEjCM8qKreBDbc=s64",
      "userId": "12328185785963342708"
     },
     "user_tz": 240
    },
    "id": "LJZWQ2LYplyW",
    "outputId": "f5dec11e-9cdf-4c40-f91d-b205cd8e27ed"
   },
   "outputs": [
    {
     "name": "stderr",
     "output_type": "stream",
     "text": [
      "/opt/anaconda3/lib/python3.8/site-packages/IPython/core/interactiveshell.py:3146: DtypeWarning: Columns (8,11,12,13,14,15,16,29,38,45,49,52,53,77,82,86,104,106,112,113,129,137) have mixed types.Specify dtype option on import or set low_memory=False.\n",
      "  has_raised = await self.run_ast_nodes(code_ast.body, cell_name,\n"
     ]
    },
    {
     "name": "stdout",
     "output_type": "stream",
     "text": [
      "There are  67 properties that don't match SDAT in the CAN ref.\n",
      "None of these types impact the analysys? ['UNDEVELOPED_HOUSING', 'COMMERCIAL', 'CITY_OF_CAMBRIDGE', 'OTHER', 'DORCHESTER_COUNTY', 'AGRICULTURE', 'HOUSING']\n"
     ]
    }
   ],
   "source": [
    "sdat = pd.read_csv(path+sdat_fn)\n",
    "##\n",
    "# Make sure the acctid is in the right format, and limit the results to just Cambridge\n",
    "##\n",
    "# Strip white space \n",
    "sdat.acctid = sdat.acctid.apply(lambda x: str(x).strip())\n",
    "\n",
    "# Merge past apns with new sdat data \n",
    "sdat = sdat.merge(cambridge_apns,on='acctid',how='outer',indicator=True)\n",
    "xtra_apns = sdat.query('_merge == \"right_only\"')\n",
    "xtra_categories = list(xtra_apns.CAN_OWNCLASS.unique())\n",
    "print(\"There are \",len(xtra_apns), \"properties that don't match SDAT in the CAN ref.\")\n",
    "print(\"None of these types impact the analysys?\",xtra_categories)\n",
    "sdat = sdat.query('_merge == \"both\"').drop(columns='_merge')"
   ]
  },
  {
   "cell_type": "markdown",
   "metadata": {},
   "source": [
    "### Merge rentals and SDAT"
   ]
  },
  {
   "cell_type": "code",
   "execution_count": 23,
   "metadata": {
    "colab": {
     "base_uri": "https://localhost:8080/"
    },
    "executionInfo": {
     "elapsed": 483,
     "status": "ok",
     "timestamp": 1623237442738,
     "user": {
      "displayName": "Greg Boss",
      "photoUrl": "https://lh3.googleusercontent.com/a-/AOh14GhhPRqwW_ulxUDi6EQAkiXmGudYqOEjCM8qKreBDbc=s64",
      "userId": "12328185785963342708"
     },
     "user_tz": 240
    },
    "id": "Yd3eTdWRpuS-",
    "outputId": "ced741f0-18d0-409c-94d2-f99dabfe7e51"
   },
   "outputs": [
    {
     "name": "stdout",
     "output_type": "stream",
     "text": [
      "WARNING: 59 didn't resolve!\n"
     ]
    }
   ],
   "source": [
    "print(\"WARNING:\",len(rentals.drop(columns='address').merge(sdat,on='acctid',how='outer',indicator=True).query('_merge == \"left_only\"')),\"didn't resolve!\")\n",
    "df = rentals.drop(columns='address').merge(sdat,on='acctid',how='inner')"
   ]
  },
  {
   "cell_type": "code",
   "execution_count": 15,
   "metadata": {
    "colab": {
     "base_uri": "https://localhost:8080/",
     "height": 779
    },
    "executionInfo": {
     "elapsed": 183,
     "status": "ok",
     "timestamp": 1623237442918,
     "user": {
      "displayName": "Greg Boss",
      "photoUrl": "https://lh3.googleusercontent.com/a-/AOh14GhhPRqwW_ulxUDi6EQAkiXmGudYqOEjCM8qKreBDbc=s64",
      "userId": "12328185785963342708"
     },
     "user_tz": 240
    },
    "id": "mlY2tsIDp9jM",
    "outputId": "9b640617-9666-4084-f111-b3ad5ffb367a"
   },
   "outputs": [
    {
     "data": {
      "text/html": [
       "<div>\n",
       "<style scoped>\n",
       "    .dataframe tbody tr th:only-of-type {\n",
       "        vertical-align: middle;\n",
       "    }\n",
       "\n",
       "    .dataframe tbody tr th {\n",
       "        vertical-align: top;\n",
       "    }\n",
       "\n",
       "    .dataframe thead th {\n",
       "        text-align: right;\n",
       "    }\n",
       "</style>\n",
       "<table border=\"1\" class=\"dataframe\">\n",
       "  <thead>\n",
       "    <tr style=\"text-align: right;\">\n",
       "      <th></th>\n",
       "      <th>acctid</th>\n",
       "      <th>Customer Id</th>\n",
       "      <th>Name</th>\n",
       "      <th>Name 2</th>\n",
       "      <th>Address 2</th>\n",
       "      <th>State</th>\n",
       "      <th>Zip</th>\n",
       "      <th>License Id</th>\n",
       "      <th>License Type</th>\n",
       "      <th>Unnamed: 9</th>\n",
       "      <th>...</th>\n",
       "      <th>assessed_value</th>\n",
       "      <th>address_number</th>\n",
       "      <th>address_unit_id</th>\n",
       "      <th>street_direction</th>\n",
       "      <th>street_name</th>\n",
       "      <th>street_type</th>\n",
       "      <th>premise_address_type_mdp_field_premstyp_sdat_field_24</th>\n",
       "      <th>premise_address_city_mdp_field_premcity_sdat_field_25</th>\n",
       "      <th>premise_address_zip_code_mdp_field_premzip_sdat_field_26</th>\n",
       "      <th>mdp_street_address_mdp_field_address</th>\n",
       "    </tr>\n",
       "  </thead>\n",
       "  <tbody>\n",
       "    <tr>\n",
       "      <th>0</th>\n",
       "      <td>1007113935</td>\n",
       "      <td>RR-07388</td>\n",
       "      <td>OTTER LLC</td>\n",
       "      <td>C/O KYLE &amp; LISA MARSHALL</td>\n",
       "      <td></td>\n",
       "      <td>MD</td>\n",
       "      <td>21613</td>\n",
       "      <td>20-00001</td>\n",
       "      <td>RENTAL</td>\n",
       "      <td>True</td>\n",
       "      <td>...</td>\n",
       "      <td>62333</td>\n",
       "      <td>1920</td>\n",
       "      <td>416</td>\n",
       "      <td>NaN</td>\n",
       "      <td>NaN</td>\n",
       "      <td>BOUNDARY</td>\n",
       "      <td>AVE</td>\n",
       "      <td>CAMBRIDGE</td>\n",
       "      <td>21613.0</td>\n",
       "      <td>416 BOUNDARY AVE</td>\n",
       "    </tr>\n",
       "    <tr>\n",
       "      <th>1</th>\n",
       "      <td>1007148038</td>\n",
       "      <td>RR-07981</td>\n",
       "      <td>DAGOSTINO COREY</td>\n",
       "      <td>C/O WRIGHT PROP MANAGEMEMENT</td>\n",
       "      <td></td>\n",
       "      <td>MD</td>\n",
       "      <td>21643</td>\n",
       "      <td>20-00002</td>\n",
       "      <td>RENTAL</td>\n",
       "      <td>True</td>\n",
       "      <td>...</td>\n",
       "      <td>153433</td>\n",
       "      <td>1900</td>\n",
       "      <td>704</td>\n",
       "      <td>NaN</td>\n",
       "      <td>NaN</td>\n",
       "      <td>CHURCH</td>\n",
       "      <td>ST</td>\n",
       "      <td>CAMBRIDGE</td>\n",
       "      <td>21613.0</td>\n",
       "      <td>704 CHURCH ST</td>\n",
       "    </tr>\n",
       "    <tr>\n",
       "      <th>2</th>\n",
       "      <td>1007164289</td>\n",
       "      <td>RR-04889</td>\n",
       "      <td>JAMES INVESTMENTS LLC</td>\n",
       "      <td></td>\n",
       "      <td></td>\n",
       "      <td>MD</td>\n",
       "      <td>21613</td>\n",
       "      <td>20-00003</td>\n",
       "      <td>RENTAL</td>\n",
       "      <td>True</td>\n",
       "      <td>...</td>\n",
       "      <td>21433</td>\n",
       "      <td>1917</td>\n",
       "      <td>623</td>\n",
       "      <td>NaN</td>\n",
       "      <td>NaN</td>\n",
       "      <td>DOUGLAS</td>\n",
       "      <td>ST</td>\n",
       "      <td>CAMBRIDGE</td>\n",
       "      <td>21613.0</td>\n",
       "      <td>623 DOUGLAS ST</td>\n",
       "    </tr>\n",
       "    <tr>\n",
       "      <th>3</th>\n",
       "      <td>1007164289</td>\n",
       "      <td>RR-01273</td>\n",
       "      <td>KHAREL CHHATRA &amp; SARITA</td>\n",
       "      <td></td>\n",
       "      <td></td>\n",
       "      <td>MD</td>\n",
       "      <td>21613</td>\n",
       "      <td>20-01350</td>\n",
       "      <td>RENTAL</td>\n",
       "      <td>True</td>\n",
       "      <td>...</td>\n",
       "      <td>21433</td>\n",
       "      <td>1917</td>\n",
       "      <td>623</td>\n",
       "      <td>NaN</td>\n",
       "      <td>NaN</td>\n",
       "      <td>DOUGLAS</td>\n",
       "      <td>ST</td>\n",
       "      <td>CAMBRIDGE</td>\n",
       "      <td>21613.0</td>\n",
       "      <td>623 DOUGLAS ST</td>\n",
       "    </tr>\n",
       "    <tr>\n",
       "      <th>4</th>\n",
       "      <td>1007130538</td>\n",
       "      <td>RR-00375</td>\n",
       "      <td>OTTER LLC</td>\n",
       "      <td>C/O KYLE &amp; LISA MARSHALL</td>\n",
       "      <td></td>\n",
       "      <td>MD</td>\n",
       "      <td>21613</td>\n",
       "      <td>20-00004</td>\n",
       "      <td>RENTAL</td>\n",
       "      <td>True</td>\n",
       "      <td>...</td>\n",
       "      <td>15667</td>\n",
       "      <td>1924</td>\n",
       "      <td>809</td>\n",
       "      <td>NaN</td>\n",
       "      <td>NaN</td>\n",
       "      <td>PHILLIPS</td>\n",
       "      <td>ST</td>\n",
       "      <td>CAMBRIDGE</td>\n",
       "      <td>21613.0</td>\n",
       "      <td>809 PHILLIPS ST</td>\n",
       "    </tr>\n",
       "    <tr>\n",
       "      <th>...</th>\n",
       "      <td>...</td>\n",
       "      <td>...</td>\n",
       "      <td>...</td>\n",
       "      <td>...</td>\n",
       "      <td>...</td>\n",
       "      <td>...</td>\n",
       "      <td>...</td>\n",
       "      <td>...</td>\n",
       "      <td>...</td>\n",
       "      <td>...</td>\n",
       "      <td>...</td>\n",
       "      <td>...</td>\n",
       "      <td>...</td>\n",
       "      <td>...</td>\n",
       "      <td>...</td>\n",
       "      <td>...</td>\n",
       "      <td>...</td>\n",
       "      <td>...</td>\n",
       "      <td>...</td>\n",
       "      <td>...</td>\n",
       "      <td>...</td>\n",
       "    </tr>\n",
       "    <tr>\n",
       "      <th>1460</th>\n",
       "      <td>1007214987</td>\n",
       "      <td>RR-00563</td>\n",
       "      <td>317 MARYLAND AVE LLC</td>\n",
       "      <td>C/O JANET WHITNEY</td>\n",
       "      <td></td>\n",
       "      <td>MD</td>\n",
       "      <td>21620</td>\n",
       "      <td>20-01523</td>\n",
       "      <td>RENTAL</td>\n",
       "      <td>True</td>\n",
       "      <td>...</td>\n",
       "      <td>160000</td>\n",
       "      <td>2006</td>\n",
       "      <td>900</td>\n",
       "      <td>NaN</td>\n",
       "      <td>NaN</td>\n",
       "      <td>MARSHY</td>\n",
       "      <td>COV</td>\n",
       "      <td>CAMBRIDGE</td>\n",
       "      <td>21613.0</td>\n",
       "      <td>900 MARSHY COVE</td>\n",
       "    </tr>\n",
       "    <tr>\n",
       "      <th>1461</th>\n",
       "      <td>1007165730</td>\n",
       "      <td>RR-03036</td>\n",
       "      <td>WOOLFORD LEROY</td>\n",
       "      <td></td>\n",
       "      <td></td>\n",
       "      <td>MD</td>\n",
       "      <td>21623</td>\n",
       "      <td>20-01524</td>\n",
       "      <td>RENTAL</td>\n",
       "      <td>True</td>\n",
       "      <td>...</td>\n",
       "      <td>92933</td>\n",
       "      <td>1910</td>\n",
       "      <td>1000</td>\n",
       "      <td>NaN</td>\n",
       "      <td>NaN</td>\n",
       "      <td>RACE</td>\n",
       "      <td>ST</td>\n",
       "      <td>CAMBRIDGE</td>\n",
       "      <td>21613.0</td>\n",
       "      <td>1000 RACE ST</td>\n",
       "    </tr>\n",
       "    <tr>\n",
       "      <th>1462</th>\n",
       "      <td>1007152078</td>\n",
       "      <td>RR-03647</td>\n",
       "      <td>PINKETT LATOYA</td>\n",
       "      <td></td>\n",
       "      <td></td>\n",
       "      <td>MD</td>\n",
       "      <td>21673</td>\n",
       "      <td>20-01543</td>\n",
       "      <td>RENTAL</td>\n",
       "      <td>True</td>\n",
       "      <td>...</td>\n",
       "      <td>34400</td>\n",
       "      <td>1930</td>\n",
       "      <td>811</td>\n",
       "      <td>NaN</td>\n",
       "      <td>NaN</td>\n",
       "      <td>PINE</td>\n",
       "      <td>ST</td>\n",
       "      <td>CAMBRIDGE</td>\n",
       "      <td>21613.0</td>\n",
       "      <td>811 PINE ST</td>\n",
       "    </tr>\n",
       "    <tr>\n",
       "      <th>1463</th>\n",
       "      <td>1007215096</td>\n",
       "      <td>RR-09665</td>\n",
       "      <td>SHEPHERD VILLAGE II LLC</td>\n",
       "      <td></td>\n",
       "      <td></td>\n",
       "      <td>MD</td>\n",
       "      <td>21613</td>\n",
       "      <td>20-01546</td>\n",
       "      <td>RENTAL</td>\n",
       "      <td>True</td>\n",
       "      <td>...</td>\n",
       "      <td>149200</td>\n",
       "      <td>2006</td>\n",
       "      <td>900</td>\n",
       "      <td>NaN</td>\n",
       "      <td>NaN</td>\n",
       "      <td>MARSHY</td>\n",
       "      <td>COV</td>\n",
       "      <td>CAMBRIDGE</td>\n",
       "      <td>21613.0</td>\n",
       "      <td>900 MARSHY COVE</td>\n",
       "    </tr>\n",
       "    <tr>\n",
       "      <th>1464</th>\n",
       "      <td>1007217110</td>\n",
       "      <td>RR-09256</td>\n",
       "      <td>LYNN JR RICHARD</td>\n",
       "      <td></td>\n",
       "      <td></td>\n",
       "      <td>MD</td>\n",
       "      <td>21673</td>\n",
       "      <td>20-01548</td>\n",
       "      <td>RENTAL</td>\n",
       "      <td>True</td>\n",
       "      <td>...</td>\n",
       "      <td>165333</td>\n",
       "      <td>2007</td>\n",
       "      <td>316</td>\n",
       "      <td>NaN</td>\n",
       "      <td>NaN</td>\n",
       "      <td>SHIPYARD</td>\n",
       "      <td>DR</td>\n",
       "      <td>CAMBRIDGE</td>\n",
       "      <td>21613.0</td>\n",
       "      <td>316 SHIPYARD DR</td>\n",
       "    </tr>\n",
       "  </tbody>\n",
       "</table>\n",
       "<p>1465 rows × 155 columns</p>\n",
       "</div>"
      ],
      "text/plain": [
       "          acctid Customer Id                            Name  \\\n",
       "0     1007113935    RR-07388  OTTER LLC                        \n",
       "1     1007148038    RR-07981  DAGOSTINO COREY                  \n",
       "2     1007164289    RR-04889  JAMES INVESTMENTS LLC            \n",
       "3     1007164289    RR-01273  KHAREL CHHATRA & SARITA          \n",
       "4     1007130538    RR-00375  OTTER LLC                        \n",
       "...          ...         ...                             ...   \n",
       "1460  1007214987    RR-00563  317 MARYLAND AVE LLC             \n",
       "1461  1007165730    RR-03036  WOOLFORD LEROY                   \n",
       "1462  1007152078    RR-03647  PINKETT LATOYA                   \n",
       "1463  1007215096    RR-09665  SHEPHERD VILLAGE II LLC          \n",
       "1464  1007217110    RR-09256  LYNN JR RICHARD                  \n",
       "\n",
       "                              Name 2                       Address 2 State  \\\n",
       "0     C/O KYLE & LISA MARSHALL                                          MD   \n",
       "1     C/O WRIGHT PROP MANAGEMEMENT                                      MD   \n",
       "2                                                                       MD   \n",
       "3                                                                       MD   \n",
       "4     C/O KYLE & LISA MARSHALL                                          MD   \n",
       "...                              ...                             ...   ...   \n",
       "1460  C/O JANET WHITNEY                                                 MD   \n",
       "1461                                                                    MD   \n",
       "1462                                                                    MD   \n",
       "1463                                                                    MD   \n",
       "1464                                                                    MD   \n",
       "\n",
       "             Zip License Id License Type  Unnamed: 9  ...  assessed_value  \\\n",
       "0     21613        20-00001     RENTAL          True  ...           62333   \n",
       "1     21643        20-00002     RENTAL          True  ...          153433   \n",
       "2     21613        20-00003     RENTAL          True  ...           21433   \n",
       "3     21613        20-01350     RENTAL          True  ...           21433   \n",
       "4     21613        20-00004     RENTAL          True  ...           15667   \n",
       "...          ...        ...          ...         ...  ...             ...   \n",
       "1460  21620        20-01523     RENTAL          True  ...          160000   \n",
       "1461  21623        20-01524     RENTAL          True  ...           92933   \n",
       "1462  21673        20-01543     RENTAL          True  ...           34400   \n",
       "1463  21613        20-01546     RENTAL          True  ...          149200   \n",
       "1464  21673        20-01548     RENTAL          True  ...          165333   \n",
       "\n",
       "      address_number address_unit_id street_direction  street_name  \\\n",
       "0               1920             416              NaN          NaN   \n",
       "1               1900             704              NaN          NaN   \n",
       "2               1917             623              NaN          NaN   \n",
       "3               1917             623              NaN          NaN   \n",
       "4               1924             809              NaN          NaN   \n",
       "...              ...             ...              ...          ...   \n",
       "1460            2006             900              NaN          NaN   \n",
       "1461            1910            1000              NaN          NaN   \n",
       "1462            1930             811              NaN          NaN   \n",
       "1463            2006             900              NaN          NaN   \n",
       "1464            2007             316              NaN          NaN   \n",
       "\n",
       "      street_type  premise_address_type_mdp_field_premstyp_sdat_field_24  \\\n",
       "0        BOUNDARY                                                AVE       \n",
       "1          CHURCH                                                 ST       \n",
       "2         DOUGLAS                                                 ST       \n",
       "3         DOUGLAS                                                 ST       \n",
       "4        PHILLIPS                                                 ST       \n",
       "...           ...                                                ...       \n",
       "1460       MARSHY                                                COV       \n",
       "1461         RACE                                                 ST       \n",
       "1462         PINE                                                 ST       \n",
       "1463       MARSHY                                                COV       \n",
       "1464     SHIPYARD                                                 DR       \n",
       "\n",
       "      premise_address_city_mdp_field_premcity_sdat_field_25  \\\n",
       "0                                             CAMBRIDGE       \n",
       "1                                             CAMBRIDGE       \n",
       "2                                             CAMBRIDGE       \n",
       "3                                             CAMBRIDGE       \n",
       "4                                             CAMBRIDGE       \n",
       "...                                                 ...       \n",
       "1460                                          CAMBRIDGE       \n",
       "1461                                          CAMBRIDGE       \n",
       "1462                                          CAMBRIDGE       \n",
       "1463                                          CAMBRIDGE       \n",
       "1464                                          CAMBRIDGE       \n",
       "\n",
       "      premise_address_zip_code_mdp_field_premzip_sdat_field_26  \\\n",
       "0                                               21613.0          \n",
       "1                                               21613.0          \n",
       "2                                               21613.0          \n",
       "3                                               21613.0          \n",
       "4                                               21613.0          \n",
       "...                                                 ...          \n",
       "1460                                            21613.0          \n",
       "1461                                            21613.0          \n",
       "1462                                            21613.0          \n",
       "1463                                            21613.0          \n",
       "1464                                            21613.0          \n",
       "\n",
       "     mdp_street_address_mdp_field_address  \n",
       "0                        416 BOUNDARY AVE  \n",
       "1                           704 CHURCH ST  \n",
       "2                          623 DOUGLAS ST  \n",
       "3                          623 DOUGLAS ST  \n",
       "4                         809 PHILLIPS ST  \n",
       "...                                   ...  \n",
       "1460                      900 MARSHY COVE  \n",
       "1461                         1000 RACE ST  \n",
       "1462                          811 PINE ST  \n",
       "1463                      900 MARSHY COVE  \n",
       "1464                      316 SHIPYARD DR  \n",
       "\n",
       "[1465 rows x 155 columns]"
      ]
     },
     "execution_count": 15,
     "metadata": {},
     "output_type": "execute_result"
    }
   ],
   "source": [
    "df = df.query('acctid > \"10\"')\n",
    "df"
   ]
  },
  {
   "cell_type": "markdown",
   "metadata": {
    "id": "BksMvURlFSQp"
   },
   "source": [
    "#### Format violations list dates and violations lists\n",
    "pandas df.explode() is used to make records for each row with seprate violations, but we won't do that until needed to avoid memeory pressure when clustering."
   ]
  },
  {
   "cell_type": "code",
   "execution_count": null,
   "metadata": {
    "executionInfo": {
     "elapsed": 2539,
     "status": "ok",
     "timestamp": 1623237447266,
     "user": {
      "displayName": "Greg Boss",
      "photoUrl": "https://lh3.googleusercontent.com/a-/AOh14GhhPRqwW_ulxUDi6EQAkiXmGudYqOEjCM8qKreBDbc=s64",
      "userId": "12328185785963342708"
     },
     "user_tz": 240
    },
    "id": "3DB8DGEcWJyU"
   },
   "outputs": [],
   "source": [
    "!cp \"drive/My Drive/pita 2021/text_cluster.py\" .\n",
    "from text_cluster import assign_clusters\n",
    "from text_cluster import text_similarity\n",
    "from text_cluster import cluster_strings\n",
    "\n",
    "# violations = pd.read_csv(\"drive/My Drive/pita 2020/codeviolation_20191208.csv\")\n",
    "violations = pd.read_csv(\"drive/My Drive/comcate/code_violations-20210609.csv\")\n",
    "violations['Open Date'] = violations.apply(lambda x: pd.to_datetime(x['Open Date']), axis = 1)\n",
    "violations = violations.rename(columns={'Open Date':'Open_Date'})"
   ]
  },
  {
   "cell_type": "code",
   "execution_count": null,
   "metadata": {
    "colab": {
     "base_uri": "https://localhost:8080/",
     "height": 562
    },
    "executionInfo": {
     "elapsed": 182,
     "status": "error",
     "timestamp": 1623237447444,
     "user": {
      "displayName": "Greg Boss",
      "photoUrl": "https://lh3.googleusercontent.com/a-/AOh14GhhPRqwW_ulxUDi6EQAkiXmGudYqOEjCM8qKreBDbc=s64",
      "userId": "12328185785963342708"
     },
     "user_tz": 240
    },
    "id": "VcnDXCEkdHjy",
    "outputId": "dde3c073-9390-4fc7-d08d-56281e57c18a"
   },
   "outputs": [],
   "source": [
    "import re\n",
    "\n",
    "def format_contact(s):\n",
    "  cinfo = re.sub(r'[,.;:-]','', s).split(\"\\n\")\n",
    "  name = cinfo[0]\n",
    "  address = \"\"\n",
    "  if \"Property Owner\" in cinfo[0]:\n",
    "    if len(cinfo) > 2:\n",
    "      name = cinfo[1].replace(\"'\",\"\").upper()\n",
    "      address = re.sub(r',* *[A-Z][A-Z] \\d\\d\\d\\d\\d\\'*$',\"\",cinfo[2]).replace(\"'\",\"\").upper()\n",
    "    else:\n",
    "      match = re.search(r' \\d+ ',cinfo[1])\n",
    "      if match:\n",
    "        tokens = cinfo[1].upper().split(\" \")\n",
    "        numbers = [i for i,token in enumerate(tokens) if re.search(r'\\d',token)]\n",
    "        if len(numbers) > 0:\n",
    "          name = \" \".join(tokens[0:numbers[0]])\n",
    "          address = \" \".join(tokens[numbers[0]:-1])\n",
    "  else:\n",
    "    print(\"BAD RECORD \",s)\n",
    "  return pd.Series([name, address], index=['Contact_Name','Contact_Address'])\n",
    "\n",
    "\n",
    "violations[['Contact_Name','Contact_Address']] = violations['Contacts'].apply(format_contact)\n",
    "violations['address'] = violations.fillna(\"\").apply(lambda x: \" \".join([str(x['Street Number']),str(x['Street Direction']),str(x['Street Name']),str(x['Street Type'])]).upper(),axis=1)\n",
    "violations.APN = violations.apply(lambda x: x.APN.strip(u'\\u200b'),axis=1)\n",
    "violations.address = violations.apply(lambda x: re.sub(r' +',' ',x.address).strip(),axis=1)"
   ]
  },
  {
   "cell_type": "markdown",
   "metadata": {
    "id": "zBq0d7IWic_X"
   },
   "source": [
    "#### fixup account ids"
   ]
  },
  {
   "cell_type": "code",
   "execution_count": null,
   "metadata": {
    "colab": {
     "base_uri": "https://localhost:8080/",
     "height": 351
    },
    "executionInfo": {
     "elapsed": 150,
     "status": "error",
     "timestamp": 1623237458883,
     "user": {
      "displayName": "Greg Boss",
      "photoUrl": "https://lh3.googleusercontent.com/a-/AOh14GhhPRqwW_ulxUDi6EQAkiXmGudYqOEjCM8qKreBDbc=s64",
      "userId": "12328185785963342708"
     },
     "user_tz": 240
    },
    "id": "BBWdN9ijik2P",
    "outputId": "56c6feac-722f-4943-d1ac-76e4373bf95d"
   },
   "outputs": [],
   "source": [
    "noacctid = violations.query('APN == \"\"',engine='python').address.array\n",
    "found_acctids = {v[0]:v[1] for v in df.query('address in @noacctid')[['address','acctid']].values}\n",
    "violations.acctid = violations.apply(lambda x: found_acctids.get(x.address,x.APN),axis=1)\n",
    "violations.drop_duplicates(inplace=True)\n",
    "violations = violations.query('APN.str.contains(\"[0-9]+\")',engine='python')"
   ]
  },
  {
   "cell_type": "code",
   "execution_count": null,
   "metadata": {
    "colab": {
     "base_uri": "https://localhost:8080/"
    },
    "executionInfo": {
     "elapsed": 214,
     "status": "ok",
     "timestamp": 1622981478118,
     "user": {
      "displayName": "Greg Boss",
      "photoUrl": "https://lh3.googleusercontent.com/a-/AOh14GhhPRqwW_ulxUDi6EQAkiXmGudYqOEjCM8qKreBDbc=s64",
      "userId": "12328185785963342708"
     },
     "user_tz": 240
    },
    "id": "CE5fu-PzFKeI",
    "outputId": "edbcc24d-b1f7-451f-8636-b4c0b1c59884"
   },
   "outputs": [],
   "source": [
    "print(len(violations))\n",
    "violations['vtypes'] = violations.apply(lambda x: x['Violation(s)'].split('\\n'),axis=1)\n",
    "print(len(violations))\n",
    "v_flat = violations.explode('vtypes')"
   ]
  },
  {
   "cell_type": "code",
   "execution_count": null,
   "metadata": {
    "id": "BBii9Mf_PLaC"
   },
   "outputs": [],
   "source": [
    "#pd.DataFrame(v_flat.vtypes.apply(lambda x: x.split('-')[0].strip()).unique()).to_csv('drive/My Drive/pita 2021/violation_types.csv')\n",
    "#print(len(v_flat.vtypes.unique()))\n",
    "#v_flat.vtypes.unique()"
   ]
  },
  {
   "cell_type": "code",
   "execution_count": null,
   "metadata": {
    "colab": {
     "base_uri": "https://localhost:8080/"
    },
    "executionInfo": {
     "elapsed": 840,
     "status": "ok",
     "timestamp": 1622988154696,
     "user": {
      "displayName": "Greg Boss",
      "photoUrl": "https://lh3.googleusercontent.com/a-/AOh14GhhPRqwW_ulxUDi6EQAkiXmGudYqOEjCM8qKreBDbc=s64",
      "userId": "12328185785963342708"
     },
     "user_tz": 240
    },
    "id": "2wsOmLhzecB5",
    "outputId": "504cf1b2-73a5-4e92-ff1d-168cc5cc267d"
   },
   "outputs": [],
   "source": [
    "#!mv \"/content/drive/My Drive/pita 2021/violation_types (1).csv\" \"/content/drive/My Drive/pita 2021/violation_types.csv\" \n",
    "v_categories = pd.read_csv('/content/drive/My Drive/pita 2021/violation_types.csv')\n",
    "v_lookup = dict(zip(v_categories.viloation_types,v_categories.category))\n",
    "v_flat['violation_category_text'] = v_flat.vtypes.apply(lambda x: x.split('-')[0].strip())\n",
    "v_flat['type_0'] = v_flat.apply(lambda x: 1 if v_lookup[x.violation_category_text] < 1 else 0,axis=1)\n",
    "v_flat['type_1'] = v_flat.apply(lambda x: 1 if v_lookup[x.violation_category_text] == 1 else 0,axis=1)\n",
    "v_flat['type_2'] = v_flat.apply(lambda x: 1 if v_lookup[x.violation_category_text] == 2 else 0,axis=1)\n",
    "v_flat['type_3'] = v_flat.apply(lambda x: 1 if v_lookup[x.violation_category_text] == 3 else 0,axis=1)\n",
    "v_flat['type_4'] = v_flat.apply(lambda x: 1 if v_lookup[x.violation_category_text] == 4 else 0,axis=1)"
   ]
  },
  {
   "cell_type": "markdown",
   "metadata": {
    "id": "-nsXdGc0DbRe"
   },
   "source": [
    "#### Summarize violations of all types.\n",
    "Split the multi-line violation descriptions, and total the number of individual issues per tax account id."
   ]
  },
  {
   "cell_type": "code",
   "execution_count": null,
   "metadata": {
    "colab": {
     "base_uri": "https://localhost:8080/",
     "height": 481
    },
    "executionInfo": {
     "elapsed": 289,
     "status": "ok",
     "timestamp": 1622988253526,
     "user": {
      "displayName": "Greg Boss",
      "photoUrl": "https://lh3.googleusercontent.com/a-/AOh14GhhPRqwW_ulxUDi6EQAkiXmGudYqOEjCM8qKreBDbc=s64",
      "userId": "12328185785963342708"
     },
     "user_tz": 240
    },
    "id": "Pih7OMVSmUst",
    "outputId": "21bfecea-df60-4ad8-9345-d853c6240150"
   },
   "outputs": [],
   "source": [
    "import numpy as np\n",
    "v_flat.groupby('APN').agg({'type_0':['sum'],'type_1':['sum'],'type_2':['sum'],'type_3':['sum'],'type_4':['sum']})"
   ]
  },
  {
   "cell_type": "code",
   "execution_count": null,
   "metadata": {
    "colab": {
     "base_uri": "https://localhost:8080/",
     "height": 419
    },
    "executionInfo": {
     "elapsed": 92,
     "status": "ok",
     "timestamp": 1622987940123,
     "user": {
      "displayName": "Greg Boss",
      "photoUrl": "https://lh3.googleusercontent.com/a-/AOh14GhhPRqwW_ulxUDi6EQAkiXmGudYqOEjCM8qKreBDbc=s64",
      "userId": "12328185785963342708"
     },
     "user_tz": 240
    },
    "id": "T2alHnj3VB6p",
    "outputId": "55d43ab4-1647-437f-a12a-e73f54cbae7c"
   },
   "outputs": [],
   "source": [
    "# violations['vtypes'] = violations.apply(lambda x: x['Violation(s)'].split('\\n'),axis=1)\n",
    "# v_flat = violations.explode('vtypes')\n",
    "vsummary = v_flat.groupby('APN')['Violation(s)'].value_counts().reset_index(name='vcount')\n",
    "vs2 = vsummary.groupby(['APN'])['vcount'].sum().reset_index(name='violations_total')\n",
    "vs2\n"
   ]
  },
  {
   "cell_type": "markdown",
   "metadata": {
    "id": "d9xtIg6hD5s_"
   },
   "source": [
    "####Cluster the violations\n",
    "Assign clusters by contact name and contact address, split from the Contact column."
   ]
  },
  {
   "cell_type": "code",
   "execution_count": null,
   "metadata": {
    "colab": {
     "base_uri": "https://localhost:8080/",
     "height": 1000
    },
    "executionInfo": {
     "elapsed": 180439,
     "status": "ok",
     "timestamp": 1622980876178,
     "user": {
      "displayName": "Greg Boss",
      "photoUrl": "https://lh3.googleusercontent.com/a-/AOh14GhhPRqwW_ulxUDi6EQAkiXmGudYqOEjCM8qKreBDbc=s64",
      "userId": "12328185785963342708"
     },
     "user_tz": 240
    },
    "id": "4DBpqmjF6wzd",
    "outputId": "8e4817c9-bffd-4f68-a4ef-7d6fabdf3e61"
   },
   "outputs": [],
   "source": [
    "%%time\n",
    "myquery = violations.query('(Open_Date > \"2018-12-31\")',engine='python')\n",
    "names = cluster_strings(myquery.Contact_Name.array,'c_contact',metric='jaccard',threshold=0.1)\n",
    "addresses = cluster_strings(myquery.Contact_Address.array,'c_address',metric='jaccard',threshold=0.1)"
   ]
  },
  {
   "cell_type": "code",
   "execution_count": null,
   "metadata": {
    "id": "FzdhjKdD7Qgm"
   },
   "outputs": [],
   "source": [
    "violations['contact_cluster'] = violations.apply(lambda x: names.get(x.Contact_Name,-1), axis=1)\n",
    "violations['contactadd_cluster'] = violations.apply(lambda x: addresses.get(x.Contact_Address,-1), axis=1)"
   ]
  },
  {
   "cell_type": "markdown",
   "metadata": {
    "id": "04Pm9setbqNn"
   },
   "source": [
    "#### At this point we have clusters for all the code violations\n",
    "\n",
    "Some tax accounts are associated with more than one cluster.  This can be due to entry errors in the complaint data, or changes in ownership over the complaint period. The default behavior, used as the fixed behavior here, is to return the least ambiguous dominant cluster id.  What this means practically is if the most often cited cluster == -1 (no cluster), but the second most frequent citation in the period is a valid cluster, that valid cluster is assinged to the tax id.  If more than one valid cluster is cited, the most frequently cited is used.\n",
    "\n",
    "Some of the violations have no tax acctid, in some cases because of address spelling issues.  Some of these can be backfilled.  The ones we can fix, we do.  Many of the others are just vacant lots which will drop out on the join with properties licenesed for rental."
   ]
  },
  {
   "cell_type": "code",
   "execution_count": null,
   "metadata": {
    "colab": {
     "base_uri": "https://localhost:8080/"
    },
    "executionInfo": {
     "elapsed": 2354,
     "status": "ok",
     "timestamp": 1622980878528,
     "user": {
      "displayName": "Greg Boss",
      "photoUrl": "https://lh3.googleusercontent.com/a-/AOh14GhhPRqwW_ulxUDi6EQAkiXmGudYqOEjCM8qKreBDbc=s64",
      "userId": "12328185785963342708"
     },
     "user_tz": 240
    },
    "id": "1e-7df1iQCXC",
    "outputId": "7f6ee85b-52f6-4e30-c974-c5585578a587"
   },
   "outputs": [],
   "source": [
    "def best_cluster(cnumbers):\n",
    "  if len(cnumbers) > 1 and cnumbers.index[0] < 0:\n",
    "    return cnumbers.index[1]\n",
    "  else:\n",
    "    return cnumbers.index[0]\n",
    "    \n",
    "vc_df = pd.DataFrame(violations.groupby(['APN'])['contactadd_cluster'].agg(lambda x:best_cluster(x.value_counts())))#.to_dict()\n",
    "cadd_c = violations.groupby(['APN'])['contact_cluster'].agg(lambda x:best_cluster(x.value_counts()))\n",
    "vc_df = vc_df.merge(cadd_c,left_index=True,right_index=True)\n",
    "\n",
    "# fix tax account id's where possible\n",
    "vc_df = vc_df.merge(vs2, on='APN',how='inner')\n",
    "vc_df"
   ]
  },
  {
   "cell_type": "markdown",
   "metadata": {
    "id": "Ji8ljMV4aw-V"
   },
   "source": [
    "### Save result as violation_clusters.csv\n"
   ]
  },
  {
   "cell_type": "code",
   "execution_count": null,
   "metadata": {
    "id": "Ao-IAr-8cWpR"
   },
   "outputs": [],
   "source": [
    "vc_df.to_csv('drive/My Drive/pita 2020/violation_clusters.csv')"
   ]
  },
  {
   "cell_type": "code",
   "execution_count": null,
   "metadata": {
    "colab": {
     "base_uri": "https://localhost:8080/",
     "height": 68
    },
    "executionInfo": {
     "elapsed": 347,
     "status": "ok",
     "timestamp": 1598804004395,
     "user": {
      "displayName": "Greg Boss",
      "photoUrl": "",
      "userId": "12328185785963342708"
     },
     "user_tz": 240
    },
    "id": "G0itnP-i8gWr",
    "outputId": "54a74c55-0047-4389-c74f-53e4cc4a24fb"
   },
   "outputs": [],
   "source": [
    "vsample = violations.query('(Open_Date > \"2018-12-31\")')[['APN','address','contact_cluster','Contact_Name','contactadd_cluster','Contact_Address']]\n",
    "vsample.APN = vsample.APN.astype(str)\n",
    "vsample = vsample.rename(columns={'APN':'acctid'})\n",
    "vsample.acctid = vsample.apply(lambda x: x.acctid.strip(u'\\u200b'),axis=1)\n",
    "vsample.address = vsample.apply(lambda x: re.sub(r' +',' ',x.address).strip(),axis=1)\n",
    "\n",
    "noacctid = vsample.query('acctid == \"\"',engine='python').address.array\n",
    "found_acctids = {v[0]:v[1] for v in df.query('address in @noacctid')[['address','acctid']].values}\n",
    "vsample.acctid = vsample.apply(lambda x: found_acctids.get(x.address,x.acctid),axis=1)\n",
    "vsample.query('acctid == \"\"',engine='python').address.array\n",
    "#.query('Contact_Name.str.contains(\"GLG\")',engine='python')"
   ]
  },
  {
   "cell_type": "code",
   "execution_count": null,
   "metadata": {
    "id": "d25KY54XEhe4"
   },
   "outputs": [],
   "source": []
  }
 ],
 "metadata": {
  "colab": {
   "authorship_tag": "ABX9TyMyHOJduiOY4K+9dlU7tf2v",
   "collapsed_sections": [
    "BksMvURlFSQp"
   ],
   "mount_file_id": "1WVEiGHfHvOKaDhhXrDQY6rIBMlyv6mTR",
   "name": "violations-etl.ipynb",
   "provenance": [
    {
     "file_id": "1LN5fOt7Dop3L_Fp92UQGjySwusOtQPNj",
     "timestamp": 1598802241492
    }
   ]
  },
  "kernelspec": {
   "display_name": "Python 3",
   "language": "python",
   "name": "python3"
  },
  "language_info": {
   "codemirror_mode": {
    "name": "ipython",
    "version": 3
   },
   "file_extension": ".py",
   "mimetype": "text/x-python",
   "name": "python",
   "nbconvert_exporter": "python",
   "pygments_lexer": "ipython3",
   "version": "3.8.5"
  }
 },
 "nbformat": 4,
 "nbformat_minor": 1
}
