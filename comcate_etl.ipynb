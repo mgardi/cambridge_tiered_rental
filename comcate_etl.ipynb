{
 "cells": [
  {
   "cell_type": "markdown",
   "metadata": {
    "id": "MvvrjeZ3k-MM"
   },
   "source": [
    "## Code violation data etl  \n",
    "Run the comcate Roll-up Case Detail Report, selecting your date range for 'oped date'.  Select one extra field 'Contacts', and add the phone numbers.  Run the report, selecting 'xls' output. \n",
    "\n",
    "NOTE:  This will produce an HTML FRAGMENT file of the form report<sequence numnber>.xls (not sure why, or if it will be the same after the upgrade).\n",
    "\n",
    "Rename and repair the html in the file. NOTE AM OR PM needed on line 3\n",
    "\n",
    "> ls report* | sed -e 's/.xls//g' | xargs -I {} mv {}.xls {}.html  \n",
    "> ls report*.html | xargs -I {} tail -n +20 {} | sed -e 's/.*>Report Details.*<table/<table/g' > rollup.html  \n",
    "> sed -e 's\\/\\<p\\>Number of Cases.*PM\\/\\/g' rollup.html > rollupfixed.html  \n",
    "> sed -e 's^\\<\\/tr\\>^\\<\\/tr>\\<tr\\>^g' rollupfixed.html > rollup.html\n"
   ]
  },
  {
   "cell_type": "code",
   "execution_count": 1,
   "metadata": {
    "colab": {
     "base_uri": "https://localhost:8080/"
    },
    "executionInfo": {
     "elapsed": 2932,
     "status": "ok",
     "timestamp": 1623240289832,
     "user": {
      "displayName": "Greg Boss",
      "photoUrl": "https://lh3.googleusercontent.com/a-/AOh14GhhPRqwW_ulxUDi6EQAkiXmGudYqOEjCM8qKreBDbc=s64",
      "userId": "12328185785963342708"
     },
     "user_tz": 240
    },
    "id": "8iYRRUzzVbWr",
    "outputId": "ae2495a9-bac7-4d81-c199-cdd30a959cf3"
   },
   "outputs": [
    {
     "name": "stdout",
     "output_type": "stream",
     "text": [
      "Requirement already satisfied: simpledbf in /opt/anaconda3/lib/python3.8/site-packages (0.2.6)\r\n"
     ]
    }
   ],
   "source": [
    "!pip install simpledbf"
   ]
  },
  {
   "cell_type": "code",
   "execution_count": 5,
   "metadata": {
    "executionInfo": {
     "elapsed": 10,
     "status": "ok",
     "timestamp": 1623240289833,
     "user": {
      "displayName": "Greg Boss",
      "photoUrl": "https://lh3.googleusercontent.com/a-/AOh14GhhPRqwW_ulxUDi6EQAkiXmGudYqOEjCM8qKreBDbc=s64",
      "userId": "12328185785963342708"
     },
     "user_tz": 240
    },
    "id": "Ocjdo3-pVrWr"
   },
   "outputs": [],
   "source": [
    "# TODO: Set environment dynamically \n",
    "enviro = 'dev'\n",
    "\n",
    "import pandas as pd\n",
    "import re\n",
    "\n",
    "from simpledbf import Dbf5\n",
    "from os import walk\n",
    "\n",
    "if enviro != 'dev': \n",
    "    from pydrive.auth import GoogleAuth\n",
    "    from pydrive.drive import GoogleDrive\n",
    "    from google.colab import auth\n"
   ]
  },
  {
   "cell_type": "code",
   "execution_count": 6,
   "metadata": {},
   "outputs": [],
   "source": [
    "if enviro != 'dev':\n",
    "    from google.colab import drive\n",
    "    drive.mount('/content/drive')"
   ]
  },
  {
   "cell_type": "code",
   "execution_count": 8,
   "metadata": {},
   "outputs": [],
   "source": [
    "####'\n",
    "# Set Latest File Names & data path \n",
    "###\n",
    "\n",
    "# Data file path \n",
    "if enviro == 'dev':\n",
    "    path = '~/cambridge_pita/cambridge_tiered_rental/data/'\n",
    "else: \n",
    "    path = '/content/drive/My Drive/pita 2021/'"
   ]
  },
  {
   "cell_type": "code",
   "execution_count": null,
   "metadata": {
    "colab": {
     "background_save": true
    },
    "id": "C6qn8yEEVw6C"
   },
   "outputs": [],
   "source": [
    "\n",
    "def get_at(list, index, default=None):\n",
    "  return list[index] if max(~index, index) < len(list) else default\n",
    "\n",
    "# for (dirpath, dirnames, filenames) in walk('drive/My Drive/comcate/rollup.html'):\n",
    "#   for fname in filenames:\n",
    "#     if '2551.html' in fname:\n",
    "#       print(dirpath+fname)\n",
    "#       df = pd.read_html(dirpath+fname)\n",
    "\n",
    "df = pd.read_html('drive/My Drive/comcate/rollup.html')\n",
    "    #df['acctid'] = df.Location.apply(lambda x: get_at(re.findall(r\"APN: (\\d{,10})\", x),0,''))\n",
    "    #df.Location = df.Location.apply(lambda x: re.sub(\"APN: (\\d{,10})\", '', x))"
   ]
  },
  {
   "cell_type": "code",
   "execution_count": null,
   "metadata": {
    "colab": {
     "background_save": true
    },
    "id": "KG6vClI8XPNS"
   },
   "outputs": [],
   "source": [
    "vdf = pd.concat(df)\n",
    "vdf.drop_duplicates()"
   ]
  },
  {
   "cell_type": "code",
   "execution_count": null,
   "metadata": {
    "colab": {
     "background_save": true
    },
    "id": "FRC_bBzFXhCS"
   },
   "outputs": [],
   "source": [
    "  vdf.to_csv(('drive/My Drive/comcate/code_violations-20210609.csv'))\n"
   ]
  },
  {
   "cell_type": "code",
   "execution_count": null,
   "metadata": {
    "id": "BRfZI97nXwVu"
   },
   "outputs": [],
   "source": []
  },
  {
   "cell_type": "code",
   "execution_count": null,
   "metadata": {
    "colab": {
     "base_uri": "https://localhost:8080/",
     "height": 606
    },
    "executionInfo": {
     "elapsed": 172,
     "status": "ok",
     "timestamp": 1623152710126,
     "user": {
      "displayName": "Greg Boss",
      "photoUrl": "https://lh3.googleusercontent.com/a-/AOh14GhhPRqwW_ulxUDi6EQAkiXmGudYqOEjCM8qKreBDbc=s64",
      "userId": "12328185785963342708"
     },
     "user_tz": 240
    },
    "id": "CCsmcUesZwSo",
    "outputId": "13eb8f2e-760e-4b0e-87ac-7274f64a33c8"
   },
   "outputs": [],
   "source": [
    "df"
   ]
  },
  {
   "cell_type": "code",
   "execution_count": null,
   "metadata": {
    "id": "6tXgJH5HaQC1"
   },
   "outputs": [],
   "source": []
  }
 ],
 "metadata": {
  "colab": {
   "authorship_tag": "ABX9TyNBsZ0Ey1YKEyLGSJ6W+omL",
   "collapsed_sections": [],
   "name": "comcate_etl.ipynb",
   "version": ""
  },
  "kernelspec": {
   "display_name": "Python 3",
   "language": "python",
   "name": "python3"
  },
  "language_info": {
   "codemirror_mode": {
    "name": "ipython",
    "version": 3
   },
   "file_extension": ".py",
   "mimetype": "text/x-python",
   "name": "python",
   "nbconvert_exporter": "python",
   "pygments_lexer": "ipython3",
   "version": "3.8.5"
  }
 },
 "nbformat": 4,
 "nbformat_minor": 1
}
