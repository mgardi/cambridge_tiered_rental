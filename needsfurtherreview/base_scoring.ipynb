{
 "cells": [
  {
   "cell_type": "markdown",
   "metadata": {
    "id": "3oP_7Cd2vV0i"
   },
   "source": [
    "Maryland Department of Planning\n",
    "Property Map Products\n",
    "https://planning.maryland.gov/Pages/OurProducts/PropertyMapProducts/FinderProduct.aspx\n",
    ">> Open Data GIS Downloads\n",
    "MdProperty View\n",
    "Dorchester\n",
    "https://planning.maryland.gov/Pages/OurProducts/DownloadFiles.aspx"
   ]
  },
  {
   "cell_type": "code",
   "execution_count": 1,
   "metadata": {},
   "outputs": [],
   "source": [
    "##\n",
    "# Set Values to run locally \n",
    "## \n",
    "# TODO: Set environment dynamically \n",
    "enviro = 'dev'\n",
    "local_folder = '~/projects/'"
   ]
  },
  {
   "cell_type": "code",
   "execution_count": 6,
   "metadata": {},
   "outputs": [],
   "source": [
    "####\n",
    "# Set Latest File Names & data path \n",
    "####\n",
    "\n",
    "sdat_fn = 'SDAT-CAN-ref-202105.csv'\n",
    "# TODO: FILE DOES NOT EXIST 'CAN-ref.csv' - is this a unique search?\n",
    "can_fn = 'CAN-ref.csv'\n",
    "violations_fn = 'violation_clusters.csv'\n",
    "ownership_fn = 'rental_clusters.csv'"
   ]
  },
  {
   "cell_type": "code",
   "execution_count": 2,
   "metadata": {
    "colab": {
     "base_uri": "https://localhost:8080/"
    },
    "executionInfo": {
     "elapsed": 6865,
     "status": "ok",
     "timestamp": 1622288850174,
     "user": {
      "displayName": "Greg Boss",
      "photoUrl": "https://lh3.googleusercontent.com/a-/AOh14GhhPRqwW_ulxUDi6EQAkiXmGudYqOEjCM8qKreBDbc=s64",
      "userId": "12328185785963342708"
     },
     "user_tz": 240
    },
    "id": "j1jhCxhK0AYh",
    "outputId": "739e2b98-3b17-4200-ade8-356f6db3ba9f"
   },
   "outputs": [
    {
     "name": "stdout",
     "output_type": "stream",
     "text": [
      "Requirement already satisfied: simpledbf in /opt/anaconda3/lib/python3.8/site-packages (0.2.6)\n",
      "Requirement already satisfied: seaborn in /opt/anaconda3/lib/python3.8/site-packages (0.11.0)\n",
      "Requirement already satisfied: matplotlib>=2.2 in /opt/anaconda3/lib/python3.8/site-packages (from seaborn) (3.3.2)\n",
      "Requirement already satisfied: pandas>=0.23 in /opt/anaconda3/lib/python3.8/site-packages (from seaborn) (1.1.3)\n",
      "Requirement already satisfied: numpy>=1.15 in /opt/anaconda3/lib/python3.8/site-packages (from seaborn) (1.19.2)\n",
      "Requirement already satisfied: scipy>=1.0 in /opt/anaconda3/lib/python3.8/site-packages (from seaborn) (1.5.2)\n",
      "Requirement already satisfied: pyparsing!=2.0.4,!=2.1.2,!=2.1.6,>=2.0.3 in /opt/anaconda3/lib/python3.8/site-packages (from matplotlib>=2.2->seaborn) (2.4.7)\n",
      "Requirement already satisfied: kiwisolver>=1.0.1 in /opt/anaconda3/lib/python3.8/site-packages (from matplotlib>=2.2->seaborn) (1.3.0)\n",
      "Requirement already satisfied: cycler>=0.10 in /opt/anaconda3/lib/python3.8/site-packages (from matplotlib>=2.2->seaborn) (0.10.0)\n",
      "Requirement already satisfied: certifi>=2020.06.20 in /opt/anaconda3/lib/python3.8/site-packages (from matplotlib>=2.2->seaborn) (2020.6.20)\n",
      "Requirement already satisfied: python-dateutil>=2.1 in /opt/anaconda3/lib/python3.8/site-packages (from matplotlib>=2.2->seaborn) (2.8.1)\n",
      "Requirement already satisfied: pillow>=6.2.0 in /opt/anaconda3/lib/python3.8/site-packages (from matplotlib>=2.2->seaborn) (8.0.1)\n",
      "Requirement already satisfied: pytz>=2017.2 in /opt/anaconda3/lib/python3.8/site-packages (from pandas>=0.23->seaborn) (2020.1)\n",
      "Requirement already satisfied: six in /opt/anaconda3/lib/python3.8/site-packages (from cycler>=0.10->matplotlib>=2.2->seaborn) (1.15.0)\n"
     ]
    }
   ],
   "source": [
    "###\n",
    "# Check that package requirments are satisfied \n",
    "###\n",
    "!pip install simpledbf\n",
    "!pip install seaborn"
   ]
  },
  {
   "cell_type": "code",
   "execution_count": 3,
   "metadata": {
    "executionInfo": {
     "elapsed": 667,
     "status": "ok",
     "timestamp": 1622288853772,
     "user": {
      "displayName": "Greg Boss",
      "photoUrl": "https://lh3.googleusercontent.com/a-/AOh14GhhPRqwW_ulxUDi6EQAkiXmGudYqOEjCM8qKreBDbc=s64",
      "userId": "12328185785963342708"
     },
     "user_tz": 240
    },
    "id": "OhhVbdVwBWvy"
   },
   "outputs": [],
   "source": [
    "#%matplotlib inline\n",
    "import matplotlib.pyplot as plt\n",
    "import pandas as pd\n",
    "import numpy as np\n",
    "import seaborn as sns\n",
    "import re\n",
    "from simpledbf import Dbf5\n",
    "\n",
    "\n",
    "if enviro == 'dev':\n",
    "    # set local data file path \n",
    "    path = local_folder + 'cambridge_pita/cambridge_tiered_rental/data/'\n",
    "else: \n",
    "    from pydrive.auth import GoogleAuth\n",
    "    from pydrive.drive import GoogleDrive\n",
    "    from google.colab import auth\n",
    "    # set google drive Data file path \n",
    "    path = '/content/drive/My Drive/pita 2021/'\n"
   ]
  },
  {
   "cell_type": "code",
   "execution_count": null,
   "metadata": {
    "colab": {
     "base_uri": "https://localhost:8080/"
    },
    "executionInfo": {
     "elapsed": 2582,
     "status": "ok",
     "timestamp": 1622288932695,
     "user": {
      "displayName": "Greg Boss",
      "photoUrl": "https://lh3.googleusercontent.com/a-/AOh14GhhPRqwW_ulxUDi6EQAkiXmGudYqOEjCM8qKreBDbc=s64",
      "userId": "12328185785963342708"
     },
     "user_tz": 240
    },
    "id": "FfZoPrkJS45y",
    "outputId": "b17b588b-1d08-4bdc-9a24-8a3cc2281ed9"
   },
   "outputs": [],
   "source": [
    "df = pd.read_csv(path+sdat_fn)\n",
    "# can_df = pd.read_csv(path+can_fn)"
   ]
  },
  {
   "cell_type": "markdown",
   "metadata": {
    "id": "-NOh4IzEUQIK"
   },
   "source": [
    "#### Build lookup tables for assessmesnts and sqft\n",
    "https://opendata.maryland.gov/resource/ye3m-tr66.json\n",
    "https://opendata.maryland.gov/resource/ye3m-tr66.csv"
   ]
  },
  {
   "cell_type": "code",
   "execution_count": null,
   "metadata": {
    "executionInfo": {
     "elapsed": 963,
     "status": "ok",
     "timestamp": 1622288938641,
     "user": {
      "displayName": "Greg Boss",
      "photoUrl": "https://lh3.googleusercontent.com/a-/AOh14GhhPRqwW_ulxUDi6EQAkiXmGudYqOEjCM8qKreBDbc=s64",
      "userId": "12328185785963342708"
     },
     "user_tz": 240
    },
    "id": "mdW3HQrinFRS"
   },
   "outputs": [],
   "source": [
    "###\n",
    "# Make median assumptions to normalize data that is empty or zero \n",
    "###\n",
    "\n",
    "# Find median value, size, and value per square feet \n",
    "med_property_value = df.assessed_value.median()\n",
    "med_sqft_assessment = df.struct_sqft.median()\n",
    "med_value_per_sqft = med_property_value/med_sqft_assessment\n",
    "\n",
    "# try to fill empyt sqft from median value/sqft\n",
    "# preference is known value, known sqft * median value, or median value\n",
    "def value_sqft(assessed_value,sqft):\n",
    "  if assessed_value > 0:\n",
    "    return assessed_value\n",
    "  elif sqft > 0:\n",
    "    return sqft * med_value_per_sqft\n",
    "  else:\n",
    "    return med_property_value\n",
    "\n",
    "df.assessed_value = df.apply(lambda x: value_sqft(x.assessed_value,x.struct_sqft), axis = 1)\n",
    "assessment_lookup = dict(zip(df.acctid, df.assessed_value))\n",
    "sqft_lookup = dict(zip(df.acctid, df.struct_sqft))\n"
   ]
  },
  {
   "cell_type": "code",
   "execution_count": null,
   "metadata": {
    "colab": {
     "base_uri": "https://localhost:8080/"
    },
    "executionInfo": {
     "elapsed": 129,
     "status": "ok",
     "timestamp": 1622288946031,
     "user": {
      "displayName": "Greg Boss",
      "photoUrl": "https://lh3.googleusercontent.com/a-/AOh14GhhPRqwW_ulxUDi6EQAkiXmGudYqOEjCM8qKreBDbc=s64",
      "userId": "12328185785963342708"
     },
     "user_tz": 240
    },
    "id": "5360Nj9ktQUj",
    "outputId": "112e3810-f4b4-4022-d181-a17791aab7f0"
   },
   "outputs": [],
   "source": [
    "# Split into quantiles \n",
    "df.assessed_value.quantile([0.25,0.5,0.75])"
   ]
  },
  {
   "cell_type": "markdown",
   "metadata": {
    "id": "hYoYf9YEUlt4"
   },
   "source": [
    "#### Get the rental and violation info from the City data"
   ]
  },
  {
   "cell_type": "code",
   "execution_count": 8,
   "metadata": {
    "executionInfo": {
     "elapsed": 893,
     "status": "ok",
     "timestamp": 1622288964947,
     "user": {
      "displayName": "Greg Boss",
      "photoUrl": "https://lh3.googleusercontent.com/a-/AOh14GhhPRqwW_ulxUDi6EQAkiXmGudYqOEjCM8qKreBDbc=s64",
      "userId": "12328185785963342708"
     },
     "user_tz": 240
    },
    "id": "d25KY54XEhe4"
   },
   "outputs": [
    {
     "ename": "FileNotFoundError",
     "evalue": "[Errno 2] No such file or directory: '/Users/magardin/projects/cambridge_pita/cambridge_tiered_rental/data/violation_clusters.csv'",
     "output_type": "error",
     "traceback": [
      "\u001b[0;31m---------------------------------------------------------------------------\u001b[0m",
      "\u001b[0;31mFileNotFoundError\u001b[0m                         Traceback (most recent call last)",
      "\u001b[0;32m<ipython-input-8-61f60eb45010>\u001b[0m in \u001b[0;36m<module>\u001b[0;34m\u001b[0m\n\u001b[0;32m----> 1\u001b[0;31m \u001b[0mviolations_clusters\u001b[0m \u001b[0;34m=\u001b[0m \u001b[0mpd\u001b[0m\u001b[0;34m.\u001b[0m\u001b[0mread_csv\u001b[0m\u001b[0;34m(\u001b[0m\u001b[0mpath\u001b[0m\u001b[0;34m+\u001b[0m\u001b[0mviolations_fn\u001b[0m\u001b[0;34m)\u001b[0m\u001b[0;34m\u001b[0m\u001b[0;34m\u001b[0m\u001b[0m\n\u001b[0m\u001b[1;32m      2\u001b[0m \u001b[0mowners_clusters\u001b[0m \u001b[0;34m=\u001b[0m \u001b[0mpd\u001b[0m\u001b[0;34m.\u001b[0m\u001b[0mread_csv\u001b[0m\u001b[0;34m(\u001b[0m\u001b[0mpath\u001b[0m\u001b[0;34m+\u001b[0m\u001b[0mownership_fn\u001b[0m\u001b[0;34m)\u001b[0m\u001b[0;34m\u001b[0m\u001b[0;34m\u001b[0m\u001b[0m\n\u001b[1;32m      3\u001b[0m \u001b[0;34m\u001b[0m\u001b[0m\n\u001b[1;32m      4\u001b[0m \u001b[0;31m###\u001b[0m\u001b[0;34m\u001b[0m\u001b[0;34m\u001b[0m\u001b[0;34m\u001b[0m\u001b[0m\n\u001b[1;32m      5\u001b[0m \u001b[0;31m# Violation and owner clean up data\u001b[0m\u001b[0;34m\u001b[0m\u001b[0;34m\u001b[0m\u001b[0;34m\u001b[0m\u001b[0m\n",
      "\u001b[0;32m/opt/anaconda3/lib/python3.8/site-packages/pandas/io/parsers.py\u001b[0m in \u001b[0;36mread_csv\u001b[0;34m(filepath_or_buffer, sep, delimiter, header, names, index_col, usecols, squeeze, prefix, mangle_dupe_cols, dtype, engine, converters, true_values, false_values, skipinitialspace, skiprows, skipfooter, nrows, na_values, keep_default_na, na_filter, verbose, skip_blank_lines, parse_dates, infer_datetime_format, keep_date_col, date_parser, dayfirst, cache_dates, iterator, chunksize, compression, thousands, decimal, lineterminator, quotechar, quoting, doublequote, escapechar, comment, encoding, dialect, error_bad_lines, warn_bad_lines, delim_whitespace, low_memory, memory_map, float_precision)\u001b[0m\n\u001b[1;32m    684\u001b[0m     )\n\u001b[1;32m    685\u001b[0m \u001b[0;34m\u001b[0m\u001b[0m\n\u001b[0;32m--> 686\u001b[0;31m     \u001b[0;32mreturn\u001b[0m \u001b[0m_read\u001b[0m\u001b[0;34m(\u001b[0m\u001b[0mfilepath_or_buffer\u001b[0m\u001b[0;34m,\u001b[0m \u001b[0mkwds\u001b[0m\u001b[0;34m)\u001b[0m\u001b[0;34m\u001b[0m\u001b[0;34m\u001b[0m\u001b[0m\n\u001b[0m\u001b[1;32m    687\u001b[0m \u001b[0;34m\u001b[0m\u001b[0m\n\u001b[1;32m    688\u001b[0m \u001b[0;34m\u001b[0m\u001b[0m\n",
      "\u001b[0;32m/opt/anaconda3/lib/python3.8/site-packages/pandas/io/parsers.py\u001b[0m in \u001b[0;36m_read\u001b[0;34m(filepath_or_buffer, kwds)\u001b[0m\n\u001b[1;32m    450\u001b[0m \u001b[0;34m\u001b[0m\u001b[0m\n\u001b[1;32m    451\u001b[0m     \u001b[0;31m# Create the parser.\u001b[0m\u001b[0;34m\u001b[0m\u001b[0;34m\u001b[0m\u001b[0;34m\u001b[0m\u001b[0m\n\u001b[0;32m--> 452\u001b[0;31m     \u001b[0mparser\u001b[0m \u001b[0;34m=\u001b[0m \u001b[0mTextFileReader\u001b[0m\u001b[0;34m(\u001b[0m\u001b[0mfp_or_buf\u001b[0m\u001b[0;34m,\u001b[0m \u001b[0;34m**\u001b[0m\u001b[0mkwds\u001b[0m\u001b[0;34m)\u001b[0m\u001b[0;34m\u001b[0m\u001b[0;34m\u001b[0m\u001b[0m\n\u001b[0m\u001b[1;32m    453\u001b[0m \u001b[0;34m\u001b[0m\u001b[0m\n\u001b[1;32m    454\u001b[0m     \u001b[0;32mif\u001b[0m \u001b[0mchunksize\u001b[0m \u001b[0;32mor\u001b[0m \u001b[0miterator\u001b[0m\u001b[0;34m:\u001b[0m\u001b[0;34m\u001b[0m\u001b[0;34m\u001b[0m\u001b[0m\n",
      "\u001b[0;32m/opt/anaconda3/lib/python3.8/site-packages/pandas/io/parsers.py\u001b[0m in \u001b[0;36m__init__\u001b[0;34m(self, f, engine, **kwds)\u001b[0m\n\u001b[1;32m    944\u001b[0m             \u001b[0mself\u001b[0m\u001b[0;34m.\u001b[0m\u001b[0moptions\u001b[0m\u001b[0;34m[\u001b[0m\u001b[0;34m\"has_index_names\"\u001b[0m\u001b[0;34m]\u001b[0m \u001b[0;34m=\u001b[0m \u001b[0mkwds\u001b[0m\u001b[0;34m[\u001b[0m\u001b[0;34m\"has_index_names\"\u001b[0m\u001b[0;34m]\u001b[0m\u001b[0;34m\u001b[0m\u001b[0;34m\u001b[0m\u001b[0m\n\u001b[1;32m    945\u001b[0m \u001b[0;34m\u001b[0m\u001b[0m\n\u001b[0;32m--> 946\u001b[0;31m         \u001b[0mself\u001b[0m\u001b[0;34m.\u001b[0m\u001b[0m_make_engine\u001b[0m\u001b[0;34m(\u001b[0m\u001b[0mself\u001b[0m\u001b[0;34m.\u001b[0m\u001b[0mengine\u001b[0m\u001b[0;34m)\u001b[0m\u001b[0;34m\u001b[0m\u001b[0;34m\u001b[0m\u001b[0m\n\u001b[0m\u001b[1;32m    947\u001b[0m \u001b[0;34m\u001b[0m\u001b[0m\n\u001b[1;32m    948\u001b[0m     \u001b[0;32mdef\u001b[0m \u001b[0mclose\u001b[0m\u001b[0;34m(\u001b[0m\u001b[0mself\u001b[0m\u001b[0;34m)\u001b[0m\u001b[0;34m:\u001b[0m\u001b[0;34m\u001b[0m\u001b[0;34m\u001b[0m\u001b[0m\n",
      "\u001b[0;32m/opt/anaconda3/lib/python3.8/site-packages/pandas/io/parsers.py\u001b[0m in \u001b[0;36m_make_engine\u001b[0;34m(self, engine)\u001b[0m\n\u001b[1;32m   1176\u001b[0m     \u001b[0;32mdef\u001b[0m \u001b[0m_make_engine\u001b[0m\u001b[0;34m(\u001b[0m\u001b[0mself\u001b[0m\u001b[0;34m,\u001b[0m \u001b[0mengine\u001b[0m\u001b[0;34m=\u001b[0m\u001b[0;34m\"c\"\u001b[0m\u001b[0;34m)\u001b[0m\u001b[0;34m:\u001b[0m\u001b[0;34m\u001b[0m\u001b[0;34m\u001b[0m\u001b[0m\n\u001b[1;32m   1177\u001b[0m         \u001b[0;32mif\u001b[0m \u001b[0mengine\u001b[0m \u001b[0;34m==\u001b[0m \u001b[0;34m\"c\"\u001b[0m\u001b[0;34m:\u001b[0m\u001b[0;34m\u001b[0m\u001b[0;34m\u001b[0m\u001b[0m\n\u001b[0;32m-> 1178\u001b[0;31m             \u001b[0mself\u001b[0m\u001b[0;34m.\u001b[0m\u001b[0m_engine\u001b[0m \u001b[0;34m=\u001b[0m \u001b[0mCParserWrapper\u001b[0m\u001b[0;34m(\u001b[0m\u001b[0mself\u001b[0m\u001b[0;34m.\u001b[0m\u001b[0mf\u001b[0m\u001b[0;34m,\u001b[0m \u001b[0;34m**\u001b[0m\u001b[0mself\u001b[0m\u001b[0;34m.\u001b[0m\u001b[0moptions\u001b[0m\u001b[0;34m)\u001b[0m\u001b[0;34m\u001b[0m\u001b[0;34m\u001b[0m\u001b[0m\n\u001b[0m\u001b[1;32m   1179\u001b[0m         \u001b[0;32melse\u001b[0m\u001b[0;34m:\u001b[0m\u001b[0;34m\u001b[0m\u001b[0;34m\u001b[0m\u001b[0m\n\u001b[1;32m   1180\u001b[0m             \u001b[0;32mif\u001b[0m \u001b[0mengine\u001b[0m \u001b[0;34m==\u001b[0m \u001b[0;34m\"python\"\u001b[0m\u001b[0;34m:\u001b[0m\u001b[0;34m\u001b[0m\u001b[0;34m\u001b[0m\u001b[0m\n",
      "\u001b[0;32m/opt/anaconda3/lib/python3.8/site-packages/pandas/io/parsers.py\u001b[0m in \u001b[0;36m__init__\u001b[0;34m(self, src, **kwds)\u001b[0m\n\u001b[1;32m   2006\u001b[0m         \u001b[0mkwds\u001b[0m\u001b[0;34m[\u001b[0m\u001b[0;34m\"usecols\"\u001b[0m\u001b[0;34m]\u001b[0m \u001b[0;34m=\u001b[0m \u001b[0mself\u001b[0m\u001b[0;34m.\u001b[0m\u001b[0musecols\u001b[0m\u001b[0;34m\u001b[0m\u001b[0;34m\u001b[0m\u001b[0m\n\u001b[1;32m   2007\u001b[0m \u001b[0;34m\u001b[0m\u001b[0m\n\u001b[0;32m-> 2008\u001b[0;31m         \u001b[0mself\u001b[0m\u001b[0;34m.\u001b[0m\u001b[0m_reader\u001b[0m \u001b[0;34m=\u001b[0m \u001b[0mparsers\u001b[0m\u001b[0;34m.\u001b[0m\u001b[0mTextReader\u001b[0m\u001b[0;34m(\u001b[0m\u001b[0msrc\u001b[0m\u001b[0;34m,\u001b[0m \u001b[0;34m**\u001b[0m\u001b[0mkwds\u001b[0m\u001b[0;34m)\u001b[0m\u001b[0;34m\u001b[0m\u001b[0;34m\u001b[0m\u001b[0m\n\u001b[0m\u001b[1;32m   2009\u001b[0m         \u001b[0mself\u001b[0m\u001b[0;34m.\u001b[0m\u001b[0munnamed_cols\u001b[0m \u001b[0;34m=\u001b[0m \u001b[0mself\u001b[0m\u001b[0;34m.\u001b[0m\u001b[0m_reader\u001b[0m\u001b[0;34m.\u001b[0m\u001b[0munnamed_cols\u001b[0m\u001b[0;34m\u001b[0m\u001b[0;34m\u001b[0m\u001b[0m\n\u001b[1;32m   2010\u001b[0m \u001b[0;34m\u001b[0m\u001b[0m\n",
      "\u001b[0;32mpandas/_libs/parsers.pyx\u001b[0m in \u001b[0;36mpandas._libs.parsers.TextReader.__cinit__\u001b[0;34m()\u001b[0m\n",
      "\u001b[0;32mpandas/_libs/parsers.pyx\u001b[0m in \u001b[0;36mpandas._libs.parsers.TextReader._setup_parser_source\u001b[0;34m()\u001b[0m\n",
      "\u001b[0;31mFileNotFoundError\u001b[0m: [Errno 2] No such file or directory: '/Users/magardin/projects/cambridge_pita/cambridge_tiered_rental/data/violation_clusters.csv'"
     ]
    }
   ],
   "source": [
    "violations_clusters = pd.read_csv(path+violations_fn)\n",
    "owners_clusters = pd.read_csv(path+ownership_fn)\n",
    "\n",
    "###\n",
    "# Violation and owner clean up data \n",
    "###\n",
    "# Strip white space \n",
    "owners_clusters.acctid = owners_clusters.acctid.apply(lambda x: str(x).strip())\n",
    "violations_clusters.APN = violations_clusters.APN.apply(lambda x: str(x).strip())\n",
    "# Rename cols\n",
    "violations_clusters.rename(columns={'APN':'acctid'},inplace=True)\n",
    "\n",
    "######### TODO: why are we pulling account ids into values? \n",
    "rental_acctids = owners_clusters.acctid.values\n"
   ]
  },
  {
   "cell_type": "markdown",
   "metadata": {
    "id": "6l0yS3bSU3FZ"
   },
   "source": [
    "#### Find the accounts that have to be tweaked because of ACCITID problems\n",
    "\n",
    "There are some larger apt complexes that are now that are subdivided into buildings with separate rental licenses for some reason.\n",
    "\n",
    "There is at least one property with 2 houses on it too."
   ]
  },
  {
   "cell_type": "code",
   "execution_count": null,
   "metadata": {
    "colab": {
     "base_uri": "https://localhost:8080/",
     "height": 511
    },
    "executionInfo": {
     "elapsed": 145,
     "status": "error",
     "timestamp": 1622288967991,
     "user": {
      "displayName": "Greg Boss",
      "photoUrl": "https://lh3.googleusercontent.com/a-/AOh14GhhPRqwW_ulxUDi6EQAkiXmGudYqOEjCM8qKreBDbc=s64",
      "userId": "12328185785963342708"
     },
     "user_tz": 240
    },
    "id": "1jebNmfL_4XM",
    "outputId": "95945877-7c24-44e4-92e7-81738f6a2f8d"
   },
   "outputs": [],
   "source": [
    "can_df.query('acctid not in @rental_acctids and LICENSE_TYPE == \"RENTAL\"')\n"
   ]
  },
  {
   "cell_type": "markdown",
   "metadata": {
    "id": "M-qPXYB1VbOl"
   },
   "source": [
    "#### Merge the rental and violation data\n",
    "\n",
    "<div color='red'>I \"FIXED\" THIS BY USING THE OUTPUT OF SDAT_ETL.IPYNB TO REPLACE THE OLD CAN_DF -- NEED TO CHECK THIS</div>"
   ]
  },
  {
   "cell_type": "code",
   "execution_count": null,
   "metadata": {
    "colab": {
     "base_uri": "https://localhost:8080/",
     "height": 932
    },
    "executionInfo": {
     "elapsed": 819,
     "status": "ok",
     "timestamp": 1622207259042,
     "user": {
      "displayName": "Greg Boss",
      "photoUrl": "https://lh3.googleusercontent.com/a-/AOh14GhhPRqwW_ulxUDi6EQAkiXmGudYqOEjCM8qKreBDbc=s64",
      "userId": "12328185785963342708"
     },
     "user_tz": 240
    },
    "id": "NkiOeUoO97U6",
    "outputId": "fc731555-758d-428f-c7d9-11466055d763"
   },
   "outputs": [],
   "source": [
    "df.acctid = df.acctid.astype(str)\n",
    "#cluster_df = violations_clusters.merge(owners_clusters.merge(can_df,on='acctid'),on='acctid',how='right')\n",
    "cluster_df = violations_clusters.merge(owners_clusters.merge(df,on='acctid'),on='acctid',how='right')\n",
    "cluster_df.contactadd_cluster = cluster_df.contactadd_cluster.fillna(-1)\n",
    "cluster_df.contact_cluster = cluster_df.contact_cluster.fillna(-1)#cluster_df.violations_total = cluster_df.violations_total.fillna(0)\n",
    "cluster_df.drop_duplicates(inplace=True)\n",
    "len(cluster_df) # can_df or rental df less 'dash numbers'\n",
    "cluster_df"
   ]
  },
  {
   "cell_type": "markdown",
   "metadata": {
    "id": "SdB-7fKmzQAz"
   },
   "source": [
    "#### Merge the sdat with the city data"
   ]
  },
  {
   "cell_type": "code",
   "execution_count": null,
   "metadata": {
    "colab": {
     "base_uri": "https://localhost:8080/",
     "height": 378
    },
    "executionInfo": {
     "elapsed": 238,
     "status": "error",
     "timestamp": 1622207361000,
     "user": {
      "displayName": "Greg Boss",
      "photoUrl": "https://lh3.googleusercontent.com/a-/AOh14GhhPRqwW_ulxUDi6EQAkiXmGudYqOEjCM8qKreBDbc=s64",
      "userId": "12328185785963342708"
     },
     "user_tz": 240
    },
    "id": "11J28Kmuftkn",
    "outputId": "8e397f56-ff40-4596-8c12-a6aaed408495"
   },
   "outputs": [],
   "source": [
    "# cluster_df = cluster_df.merge(pd.Series(clusters.labels_,name='cluster'),left_index=True,right_index=True,how='inner')\n",
    "interesting_columns = ['acctid','address','nfmttlvl','ownname1','ownadd1','ownname2','ownadd2','ownerzip','namekey','yearblt']\n",
    "analysis_columns = ['CAN_GROUP','acctid','address','owner_cluster','ownname1','owneradd_cluster','ownadd1','ownerzip','contactadd_cluster','contact_cluster','ownname2','ownadd2','namekey','yearblt']\n",
    "#results = cluster_df.merge(df[interesting_columns],on='acctid',how='inner')[analysis_columns]\n",
    "results = cluster_df[analysis_columns]"
   ]
  },
  {
   "cell_type": "code",
   "execution_count": null,
   "metadata": {
    "colab": {
     "base_uri": "https://localhost:8080/",
     "height": 134
    },
    "executionInfo": {
     "elapsed": 291,
     "status": "ok",
     "timestamp": 1614859885815,
     "user": {
      "displayName": "Greg Boss",
      "photoUrl": "https://lh3.googleusercontent.com/a-/AOh14GhhPRqwW_ulxUDi6EQAkiXmGudYqOEjCM8qKreBDbc=s64",
      "userId": "12328185785963342708"
     },
     "user_tz": 300
    },
    "id": "8zj3qwHXOO0g",
    "outputId": "0fd0c394-8b14-43e7-ffc1-242368c39efa"
   },
   "outputs": [],
   "source": [
    "results.query('acctid == \"1007120532\"')"
   ]
  },
  {
   "cell_type": "markdown",
   "metadata": {
    "id": "DZzckPG0VyEN"
   },
   "source": [
    "### Cluster the acctid's by owner\n",
    "\n",
    "Make a graph of the acctid's jointed by owner clusters numbers from previous processing.\n",
    "\n",
    "The violation data can be used to join the clusters further, but not at the moment..."
   ]
  },
  {
   "cell_type": "code",
   "execution_count": null,
   "metadata": {
    "id": "o4AIkjC8R7lc"
   },
   "outputs": [],
   "source": [
    "import networkx as nx\n",
    "from itertools import permutations\n",
    "\n",
    "owneraddedges = results[['acctid','owneradd_cluster']].query('owneradd_cluster != \"-1\"').groupby('owneradd_cluster')['acctid'].apply(list)\n",
    "owneradd_mostcommon = results.query('owneradd_cluster != \"-1\"').groupby(['owneradd_cluster'])['ownadd1'].agg(lambda x:x.value_counts().index[0]).to_dict()\n",
    "owneredges = results[['acctid','owner_cluster']].query('owner_cluster != \"-1\"').groupby('owner_cluster')['acctid'].apply(list)\n",
    "owner_mostcommon = results.query('owner_cluster != \"-1\"').groupby(['owner_cluster'])['ownname1'].agg(lambda x:x.value_counts().index[0]).to_dict()\n",
    "\n",
    "contactaddedges = results[['acctid','contactadd_cluster']].query('contactadd_cluster != \"-1\"').groupby('contactadd_cluster')['acctid'].apply(list)\n",
    "contactadd_mostcommon = results.query('contactadd_cluster != \"-1\"').groupby(['contactadd_cluster'])['ownname1'].agg(lambda x:x.value_counts().index[0]).to_dict()\n",
    "contactdges = results[['acctid','contact_cluster']].query('contact_cluster != \"-1\"').groupby('contact_cluster')['acctid'].apply(list)\n",
    "contact_mostcommon = results.query('contact_cluster != \"-1\"').groupby(['contact_cluster'])['ownname1'].agg(lambda x:x.value_counts().index[0]).to_dict()\n",
    "\n",
    "#print(contactadd_mostcommon['ownname1'])\n",
    "F = nx.Graph()\n",
    "\n",
    "def add_cluster_edges(G,edgeinfo,attrmap,cluster_number_col,cluster_name_col):\n",
    "  for cluster,pairs in [(k,[pair for pair in permutations(v,r=2)]) for k,v in edgeinfo.items()]:\n",
    "    for pair in pairs:\n",
    "      if len(pair) > 0:\n",
    "        if not G.has_node(pair[0]):\n",
    "          G.add_node(pair[0])\n",
    "        if not G.has_node(pair[1]):\n",
    "          G.add_node(pair[1])\n",
    "        G.nodes[pair[0]][cluster_number_col] = cluster\n",
    "        G.nodes[pair[0]][cluster_name_col] = attrmap[cluster]\n",
    "        G.nodes[pair[1]][cluster_number_col] = cluster\n",
    "        G.nodes[pair[1]][cluster_name_col] = attrmap[cluster]\n",
    "        edge_attrs  = {cluster_number_col:cluster,cluster_name_col:attrmap[cluster]}\n",
    "        G.add_edge(pair[0],pair[1],**edge_attrs)\n",
    "\n",
    "add_cluster_edges(F,owneredges,owner_mostcommon,'o_cluster','o_string')\n",
    "add_cluster_edges(F,owneraddedges,owneradd_mostcommon,'oa_cluster','oa_string')\n",
    "#add_cluster_edges(F,contactaddedges,contactadd_mostcommon,'contactadd_cluster','contactadd_string')\n",
    "#add_cluster_edges(F,contactedges,contact_mostcommon,'contact_cluster','contact_string')\n"
   ]
  },
  {
   "cell_type": "markdown",
   "metadata": {
    "id": "HgxU-tq0V82T"
   },
   "source": [
    "#### Build a data frame from the connected components of the graph above, and merge the CAN and assessment data with that"
   ]
  },
  {
   "cell_type": "code",
   "execution_count": null,
   "metadata": {
    "id": "7SqdBD1dzbLP"
   },
   "outputs": [],
   "source": [
    "F.nodes(data=True)\n",
    "F.nodes['1007160011']\n",
    "# i=3\n",
    "# [(k,i,d.get('o_string',d.get('oa_string',\"NA\"))) for k,d in F.subgraph(c).nodes(data=True) ]\n",
    "components = sorted(nx.connected_components(F), key = len, reverse=True)\n",
    "\n",
    "group_df = pd.DataFrame(columns=['acctid','group_id','group_name','GEOLATLON'])\n",
    "for i,c in enumerate(components):\n",
    "  group_df = group_df.append(pd.DataFrame([(k,i,d.get('o_string',d.get('oa_string'))) for k,d in F.subgraph(c).nodes(data=True)],columns=['acctid','group_id','group_name']))\n",
    "\n",
    "keep_columns = ['LICENSE_TYPE','UNITS','CAN_GROUP'] + interesting_columns\n",
    "group_df = group_df.merge(can_df.merge(df, on='acctid',how='inner')[keep_columns],on='acctid',how='inner')\n",
    "group_df.nfmttlvl = group_df.apply(lambda x: assessment_lookup.get(x.acctid,x.nfmttlvl),axis=1)\n",
    "group_df.rename(columns={'nfmttlvl':'assessed_value'},inplace=True)\n",
    "\n"
   ]
  },
  {
   "cell_type": "markdown",
   "metadata": {
    "id": "7SKDJqstWnh5"
   },
   "source": [
    "### Compute the 'quality factor' for each property\n",
    "\n",
    "This is:\n",
    "  market_value / log2(age)\n",
    "\n",
    "where:  \n",
    "  market_value = x.assessed_value / x.struc_sqft\n",
    "   / (1+np.log2(this_year - x.yearblt +1)+1)\n",
    "\n",
    "The $ per sqft is the market assessement of the property quality ("
   ]
  },
  {
   "cell_type": "code",
   "execution_count": null,
   "metadata": {
    "colab": {
     "base_uri": "https://localhost:8080/",
     "height": 419
    },
    "executionInfo": {
     "elapsed": 273,
     "status": "ok",
     "timestamp": 1614859891330,
     "user": {
      "displayName": "Greg Boss",
      "photoUrl": "https://lh3.googleusercontent.com/a-/AOh14GhhPRqwW_ulxUDi6EQAkiXmGudYqOEjCM8qKreBDbc=s64",
      "userId": "12328185785963342708"
     },
     "user_tz": 300
    },
    "id": "St5-6O3HXtsf",
    "outputId": "0a371e65-ae5a-4b72-8ad0-72c2f57a9182"
   },
   "outputs": [],
   "source": [
    "def get_sqft(struc_sqft,units,med_sqft):\n",
    "  nominal_units = units if units > 0 else 1\n",
    "  nominal_sqft = nominal_units * med_sqft if units > 0 else med_sqft\n",
    "  if struc_sqft > 0 :\n",
    "    return struc_sqft if struc_sqft > nominal_sqft else nominal_sqft\n",
    "  else:\n",
    "    return nominal_sqft\n",
    "\n",
    "# you need 'struc_sqft' and UNITS per property\n",
    "def get_quality_factor_lookup(df,default_sqft=0):\n",
    "\n",
    "  med_sqft = df.struc_sqft.median() if default_sqft == 0 else default_sqft\n",
    "\n",
    "  df.struc_sqft = df.apply(lambda x: get_sqft(x.struc_sqft,x.UNITS,med_sqft), axis = 1)\n",
    "\n",
    "  med_yearblt = df.yearblt.median()\n",
    "  df.yearblt = df.yearblt.fillna(med_yearblt).astype(int)\n",
    "\n",
    "  import datetime\n",
    "  this_year = datetime.datetime.now().year\n",
    "\n",
    "  df['quality_factor'] = df.apply(lambda x: x.assessed_value/x.struc_sqft/(1+np.log10(this_year - x.yearblt +1)+1),axis=1)\n",
    "  return dict(zip(group_df.acctid, group_df.quality_factor))\n",
    "\n",
    "group_df['struc_sqft'] = group_df.apply(lambda x: float(sqft_lookup.get(x.acctid,1)),axis=1)\n",
    "group_quality_lookup = get_quality_factor_lookup(group_df)\n",
    "\n",
    "pd.set_option('display.max_rows', 60)\n",
    "group_df[['acctid','UNITS','struc_sqft','yearblt','assessed_value','quality_factor']].sort_values(by='assessed_value')"
   ]
  },
  {
   "cell_type": "markdown",
   "metadata": {
    "id": "qMGMit4jaEVE"
   },
   "source": [
    "### Find all the acctid's that didn't have an edge\n",
    "\n",
    "These properties do not belong to a group.  It is possible these could be grouped using code violation contact information, or phone numbers of contacts if these are avaiable."
   ]
  },
  {
   "cell_type": "code",
   "execution_count": null,
   "metadata": {
    "id": "aiHYupqC0V4C"
   },
   "outputs": [],
   "source": [
    "singles = set(results.acctid.values).difference(set(group_df.acctid.values))\n",
    "singles_df = results.query('acctid in @singles')\n",
    "singles_df = can_df[['acctid','LICENSE_TYPE','UNITS','GEOLATLON']].merge(singles_df,on='acctid',how='inner')\n",
    "\n",
    "#singles_df.query('acctid == \"1007196067\"').apply(lambda x:get_sqft( float(sqft_lookup.get(str(x.acctid),0)) ,float(x.UNITS)),axis=1)\n",
    "#sqft_lookup.get(\"1007196067\",0)\n",
    "#get_sqft(9022.0,96.0)"
   ]
  },
  {
   "cell_type": "code",
   "execution_count": null,
   "metadata": {
    "colab": {
     "base_uri": "https://localhost:8080/",
     "height": 779
    },
    "executionInfo": {
     "elapsed": 608,
     "status": "ok",
     "timestamp": 1614859895602,
     "user": {
      "displayName": "Greg Boss",
      "photoUrl": "https://lh3.googleusercontent.com/a-/AOh14GhhPRqwW_ulxUDi6EQAkiXmGudYqOEjCM8qKreBDbc=s64",
      "userId": "12328185785963342708"
     },
     "user_tz": 300
    },
    "id": "Rx_5eb5cnPWN",
    "outputId": "59bebc1b-d259-4925-b63e-061e807493f3"
   },
   "outputs": [],
   "source": [
    "# missing 'LICENSE_TYPE', 'UNITS', 'assessed_value', 'group_id', 'group_name'\n",
    "singles_df['assessed_value'] = singles_df.apply(lambda x: assessment_lookup[x.acctid],axis=1)\n",
    "group_median_sqft = group_df.struc_sqft.median()\n",
    "singles_df['struc_sqft'] = singles_df.apply(lambda x: get_sqft( float(sqft_lookup.get(str(x.acctid),0)) ,float(x.UNITS),group_median_sqft),axis=1)\n",
    "quality_lookup = {**group_quality_lookup, **get_quality_factor_lookup(singles_df,default_sqft=group_median_sqft)}\n",
    "\n",
    "CAMBRIDGE = [\"21613\"]\n",
    "BALTIMORE = [\"21201\",\"21202\",\"21203\",\"21204\",\"21205\",\"21206\",\"21207\",\"21208\",\"21209\",\"21210\",\"21211\",\"21212\",\"21213\",\"21214\",\"21215\",\"21216\",\"21217\",\"21218\",\"21219\",\"21220\",\"21221\",\"21222\",\"21223\",\"21224\",\"21225\",\"21226\",\"21227\",\"21228\",\"21229\",\"21230\",\"21231\",\"21233\",\"21234\",\"21235\",\"21236\",\"21237\",\"21239\",\"21240\",\"21241\",\"21244\",\"21250\",\"21251\",\"21252\",\"21263\",\"21264\",\"21270\",\"21273\",\"21275\",\"21278\",\"21279\",\"21281\",\"21282\",\"21284\",\"21285\",\"21286\",\"21287\",\"21289\",\"21290\",\"21297\",\"21298\"]\n",
    "DC = [\"20001\",\"20002\",\"20003\",\"20004\",\"20005\",\"20006\",\"20007\",\"20008\",\"20009\",\"20010\",\"20011\",\"20012\",\"20013\",\"20015\",\"20016\",\"20017\",\"20018\",\"20019\",\"20020\",\"20022\",\"20024\",\"20026\",\"20027\",\"20029\",\"20030\",\"20032\",\"20033\",\"20035\",\"20036\",\"20037\",\"20038\",\"20039\",\"20040\",\"20041\",\"20042\",\"20043\",\"20044\",\"20045\",\"20047\",\"20049\",\"20050\",\"20052\",\"20053\",\"20055\",\"20056\",\"20057\",\"20058\",\"20059\",\"20060\",\"20061\",\"20062\",\"20063\",\"20064\",\"20065\",\"20066\",\"20067\",\"20068\",\"20069\",\"20070\",\"20071\",\"20073\",\"20074\",\"20075\",\"20076\",\"20077\",\"20078\",\"20080\",\"20081\",\"20082\",\"20090\",\"20091\",\"20201\",\"20202\",\"20203\",\"20204\",\"20206\",\"20207\",\"20208\",\"20210\",\"20211\",\"20212\",\"20213\",\"20214\",\"20215\",\"20216\",\"20217\",\"20218\",\"20219\",\"20220\",\"20221\",\"20222\",\"20223\",\"20224\",\"20226\",\"20227\",\"20228\",\"20229\",\"20230\",\"20232\",\"20233\",\"20235\",\"20237\",\"20238\",\"20239\",\"20240\",\"20241\",\"20242\",\"20244\",\"20245\",\"20250\",\"20251\",\"20252\",\"20254\",\"20260\",\"20261\",\"20262\",\"20265\",\"20266\",\"20268\",\"20270\",\"20277\",\"20289\",\"20299\",\"20301\",\"20303\",\"20306\",\"20310\",\"20314\",\"20317\",\"20318\",\"20319\",\"20330\",\"20340\",\"20350\",\"20355\",\"20370\",\"20372\",\"20373\",\"20374\",\"20375\",\"20376\",\"20380\",\"20388\",\"20389\",\"20390\",\"20391\",\"20392\",\"20393\",\"20394\",\"20395\",\"20398\",\"20401\",\"20402\",\"20403\",\"20404\",\"20405\",\"20406\",\"20407\",\"20408\",\"20410\",\"20411\",\"20412\",\"20413\",\"20414\",\"20415\",\"20416\",\"20417\",\"20418\",\"20419\",\"20420\",\"20421\",\"20422\",\"20423\",\"20424\",\"20425\",\"20426\",\"20427\",\"20428\",\"20429\",\"20431\",\"20433\",\"20434\",\"20435\",\"20436\",\"20437\",\"20439\",\"20440\",\"20441\",\"20442\",\"20444\",\"20447\",\"20451\",\"20453\",\"20456\",\"20460\",\"20463\",\"20468\",\"20469\",\"20470\",\"20472\",\"20500\",\"20501\",\"20502\",\"20503\",\"20504\",\"20505\",\"20506\",\"20507\",\"20508\",\"20509\",\"20510\",\"20511\",\"20515\",\"20520\",\"20521\",\"20522\",\"20523\",\"20524\",\"20525\",\"20526\",\"20527\",\"20528\",\"20529\",\"20530\",\"20531\",\"20533\",\"20534\",\"20535\",\"20536\",\"20537\",\"20538\",\"20539\",\"20540\",\"20541\",\"20542\",\"20543\",\"20544\",\"20546\",\"20547\",\"20548\",\"20549\",\"20551\",\"20552\",\"20553\",\"20554\",\"20555\",\"20557\",\"20559\",\"20560\",\"20565\",\"20566\",\"20570\",\"20571\",\"20572\",\"20573\",\"20575\",\"20576\",\"20577\",\"20578\",\"20579\",\"20580\",\"20581\",\"20585\",\"20586\",\"20590\",\"20591\",\"20593\",\"20594\",\"20597\",\"20599\"]\n",
    "TALBOT = [\"21647\",\"21679\",\"21601\",\"21653\",\"21652\",\"21654\",\"21612\",\"21624\",\"21663\",\"21662\",\"21625\",\"21665\",\"21671\",\"21673\",\"21676\"]\n",
    "MARYLAND = ['20588','20601','20602','20603','20604','20606','20607','20608','20609','20610','20611','20612','20613','20615','20616','20617','20618','20619','20620','20621','20622','20623','20624','20625','20626','20627','20628','20629','20630','20632','20634','20635','20636','20637','20639','20640','20643','20645','20646','20650','20653','20656','20657','20658','20659','20660','20661','20662','20664','20667','20670','20674','20675','20676','20677','20678','20680','20682','20684','20685','20686','20687','20688','20689','20690','20692','20693','20695','20697','20701','20703','20704','20705','20706','20707','20708','20709','20710','20711','20712','20714','20715','20716','20717','20718','20719','20720','20721','20722','20723','20724','20725','20726','20731','20732','20733','20735','20736','20737','20738','20740','20741','20742','20743','20744','20745','20746','20747','20748','20749','20750','20751','20752','20753','20754','20755','20757','20758','20759','20762','20763','20764','20765','20768','20769','20770','20771','20772','20773','20774','20775','20776','20777','20778','20779','20781','20782','20783','20784','20785','20787','20788','20790','20791','20792','20794','20797','20799','20810','20811','20812','20813','20814','20815','20816','20817','20818','20824','20825','20827','20830','20832','20833','20837','20838','20839','20841','20842','20847','20848','20849','20850','20851','20852','20853','20854','20855','20857','20859','20860','20861','20862','20866','20868','20871','20872','20874','20875','20876','20877','20878','20879','20880','20882','20883','20884','20885','20886','20889','20891','20892','20894','20895','20896','20897','20898','20899','20901','20902','20903','20904','20905','20906','20907','20908','20910','20911','20912','20913','20914','20915','20916','20918','20993','20997','21001','21005','21009','21010','21012','21013','21014','21015','21017','21018','21020','21022','21023','21027','21028','21029','21030','21031','21032','21034','21035','21036','21037','21040','21041','21042','21043','21044','21045','21046','21047','21048','21050','21051','21052','21053','21054','21056','21057','21060','21061','21062','21065','21071','21074','21075','21076','21077','21078','21082','21084','21085','21087','21088','21090','21092','21093','21094','21102','21104','21105','21106','21108','21111','21113','21114','21117','21120','21122','21123','21128','21130','21131','21132','21133','21136','21139','21140','21144','21146','21150','21152','21153','21154','21155','21156','21157','21158','21160','21161','21162','21163','21201','21202','21203','21204','21205','21206','21207','21208','21209','21210','21211','21212','21213','21214','21215','21216','21217','21218','21219','21220','21221','21222','21223','21224','21225','21226','21227','21228','21229','21230','21231','21233','21234','21235','21236','21237','21239','21240','21241','21244','21250','21251','21252','21263','21264','21270','21273','21275','21278','21279','21281','21282','21284','21285','21286','21287','21289','21290','21297','21298','21401','21402','21403','21404','21405','21409','21411','21412','21501','21502','21503','21504','21505','21520','21521','21522','21523','21524','21528','21529','21530','21531','21532','21536','21538','21539','21540','21541','21542','21543','21545','21550','21555','21556','21557','21560','21561','21562','21601','21607','21609','21610','21612','21613','21617','21619','21620','21622','21623','21624','21625','21626','21627','21628','21629','21631','21632','21634','21635','21636','21638','21639','21640','21641','21643','21644','21645','21647','21648','21649','21650','21651','21652','21653','21654','21655','21656','21657','21658','21659','21660','21661','21662','21663','21664','21665','21666','21667','21668','21669','21670','21671','21672','21673','21675','21676','21677','21678','21679','21690','21701','21702','21703','21704','21705','21709','21710','21711','21713','21714','21715','21716','21717','21718','21719','21720','21721','21722','21723','21727','21733','21734','21737','21738','21740','21741','21742','21746','21747','21749','21750','21754','21755','21756','21757','21758','21759','21762','21765','21766','21767','21769','21770','21771','21773','21774','21775','21776','21777','21778','21779','21780','21781','21782','21783','21784','21787','21788','21790','21791','21792','21793','21794','21795','21797','21798','21801','21802','21803','21804','21810','21811','21813','21814','21817','21821','21822','21824','21826','21829','21830','21835','21836','21837','21838','21840','21841','21842','21843','21849','21850','21851','21852','21853','21856','21857','21861','21862','21863','21864','21865','21866','21867','21869','21871','21872','21874','21875','21890','21901','21902','21903','21904','21911','21912','21913','21914','21915','21916','21917','21918','21919','21920','21921','21922','21930']\n",
    "def set_group_by_zipcode(zip):\n",
    "  if zip == \"21613\":\n",
    "    return 1000\n",
    "  elif zip in TALBOT:\n",
    "    return 1001\n",
    "  elif zip in DC:\n",
    "    return 2000\n",
    "  elif zip in MARYLAND:\n",
    "    return 3000\n",
    "  else:\n",
    "    return 4000\n",
    "\n",
    "keepers = [\"REED\",\"BRANNOCK\",\"BRADFORD\",\"CAMBRIDGE_CLUB\",\"WOODS_CROSSING\",\"HURLEY\",\"MOORE\",\"CORNISH\",\"WEBSTER\"]\n",
    "def set_group_id(group, ownerzip):\n",
    "  if group in keepers:\n",
    "    i = keepers.index(group)\n",
    "    return 4000 + i + 1\n",
    "  else:\n",
    "    return set_group_by_zipcode(zip)\n",
    "\n",
    "# copy the CAN group names to the group_name as a default\n",
    "singles_df['group_name'] = singles_df.apply(lambda x: x.CAN_GROUP, axis=1)\n",
    "# see if we can find a group_id\n",
    "singles_df['group_id'] = singles_df.apply(lambda x: set_group_id(x.CAN_GROUP, x.ownerzip), axis=1)\n",
    "# overwrite the group_names by zipcode group, if present\n",
    "REGION_NAMES = {1000:'CAMBRIDGE RESIDENT',1001:'TALBOT CO RESIDENT',2000:'DC RESIDENT',3000:'MD RESIDENT',4000:\"OUTSIDE MD\"}\n",
    "singles_df['group_name'] = singles_df.apply(lambda x: REGION_NAMES.get(x.group_id,x.group_name),axis=1)\n",
    "#singles_df.CAN_GROUP = singles_df.group_name\n",
    "\n",
    "pd.set_option('display.max_rows', 60)\n",
    "singles_df = singles_df[group_df.columns.values]\n",
    "singles_df.query('group_name != \"CAMBRIDGE RESIDENT\"')\n"
   ]
  },
  {
   "cell_type": "code",
   "execution_count": null,
   "metadata": {
    "colab": {
     "base_uri": "https://localhost:8080/",
     "height": 151
    },
    "executionInfo": {
     "elapsed": 305,
     "status": "ok",
     "timestamp": 1614859896322,
     "user": {
      "displayName": "Greg Boss",
      "photoUrl": "https://lh3.googleusercontent.com/a-/AOh14GhhPRqwW_ulxUDi6EQAkiXmGudYqOEjCM8qKreBDbc=s64",
      "userId": "12328185785963342708"
     },
     "user_tz": 300
    },
    "id": "FU91JGiw7SGE",
    "outputId": "0699a8ed-409a-426e-ded5-a978989f7254"
   },
   "outputs": [],
   "source": [
    "singles_df.query('group_name == \"WOODS_CROSSING\"')"
   ]
  },
  {
   "cell_type": "markdown",
   "metadata": {
    "id": "WmloNWwpadld"
   },
   "source": [
    "### Rollup the group statistics"
   ]
  },
  {
   "cell_type": "code",
   "execution_count": null,
   "metadata": {
    "colab": {
     "base_uri": "https://localhost:8080/"
    },
    "executionInfo": {
     "elapsed": 484,
     "status": "ok",
     "timestamp": 1614859898299,
     "user": {
      "displayName": "Greg Boss",
      "photoUrl": "https://lh3.googleusercontent.com/a-/AOh14GhhPRqwW_ulxUDi6EQAkiXmGudYqOEjCM8qKreBDbc=s64",
      "userId": "12328185785963342708"
     },
     "user_tz": 300
    },
    "id": "Ugr5yJE7ifFQ",
    "outputId": "61c6cf09-6fd2-46c5-8821-52c6d80c0cf4"
   },
   "outputs": [],
   "source": [
    "#group_df = group_df.append(singles_df)\n",
    "group_df.yearblt = group_df.yearblt.astype(int)\n",
    "\n",
    "def get_most_frequent(col):\n",
    "  values = col.value_counts()\n",
    "  return(values.index[0])\n",
    "\n",
    "rollup = group_df.groupby('group_id').agg(\n",
    "    group_name = pd.NamedAgg(column='group_name',aggfunc=lambda x: get_most_frequent(x)),\n",
    "    total_units = pd.NamedAgg(column='UNITS', aggfunc=sum),\n",
    "    property_count = pd.NamedAgg(column='acctid', aggfunc=len),\n",
    "    total_value = pd.NamedAgg(column='assessed_value', aggfunc='sum'),\n",
    "    avg_value_per_property = pd.NamedAgg(column='assessed_value', aggfunc='mean'),\n",
    "    avg_units_per_property = pd.NamedAgg(column='UNITS', aggfunc='mean'),\n",
    "    med_value_per_property = pd.NamedAgg(column='assessed_value', aggfunc='median'),\n",
    "    med_units_per_property = pd.NamedAgg(column='UNITS', aggfunc='median'),\n",
    "    med_yrblt = pd.NamedAgg(column='yearblt', aggfunc='median'),\n",
    "    avg_yrblt = pd.NamedAgg(column='yearblt', aggfunc='mean'),\n",
    "    med_property_sqft = pd.NamedAgg(column='struc_sqft', aggfunc='median'),\n",
    "    avg_property_sqft = pd.NamedAgg(column='struc_sqft', aggfunc='mean'),\n",
    "    avg_quality_factor = pd.NamedAgg(column='quality_factor', aggfunc='mean'),\n",
    "    med_quality_factor = pd.NamedAgg(column='quality_factor', aggfunc='median'))\n",
    "\n",
    "rollup['avg_value_per_unit'] = rollup.apply(lambda x: x.total_value/x.total_units, axis=1)\n",
    "rollup['med_value_per_unit'] = rollup.apply(lambda x: x.med_value_per_property/x.med_units_per_property, axis=1)\n",
    "rollup['inv_avg_unit_value'] = rollup.apply(lambda x: 1.0/float(pow(x.avg_value_per_unit,2)), axis=1)\n",
    "rollup['med_age'] = rollup.apply(lambda x: 2020.0-x.med_yrblt, axis=1)\n",
    "\n",
    "rollup.reset_index(inplace=True)\n",
    "import statistics\n",
    "rentals_med_sqft = statistics.median(group_df.struc_sqft.values)\n",
    "print(rentals_med_sqft)\n",
    "#(np.log10(x.total_units)+1))/5\n",
    "rollup['adjusted_age_quality'] = rollup.apply(lambda x: pow(1/(x.med_quality_factor/(np.log10(x.total_units)+1)),1),axis=1)#/max(min(1.0,x.med_property_sqft/rentals_med_sqft),1.0),axis=1)\n",
    "max_adjusted_age_quality = max(rollup.adjusted_age_quality.fillna(0).values)\n",
    "print(\"max adjusted age quality\", max_adjusted_age_quality)\n",
    "rollup['age_quality_score'] = rollup.apply(lambda x: (max_adjusted_age_quality - x.adjusted_age_quality)/max_adjusted_age_quality, axis=1)\n",
    "\n",
    "median_adjusted_age_quality = rollup.age_quality_score.median()\n",
    "print(\"median age quality score\",median_adjusted_age_quality)\n",
    "\n",
    "max_median_value_per_unit = max(rollup.med_value_per_unit.fillna(0).values)\n",
    "print(\"max_median_value_per_unit\",max_median_value_per_unit)\n",
    "rollup['median_value_score'] = rollup.apply(lambda x: x.med_value_per_unit/max_median_value_per_unit,axis=1)\n",
    "median_value_per_unit = rollup.median_value_score.median()\n",
    "print(\"median value per unit\",median_value_per_unit)\n",
    "rollup['pita_score'] = rollup.apply(lambda x: pow(x.age_quality_score * x.median_value_score,0.5),axis=1)"
   ]
  },
  {
   "cell_type": "code",
   "execution_count": null,
   "metadata": {
    "colab": {
     "base_uri": "https://localhost:8080/",
     "height": 711
    },
    "executionInfo": {
     "elapsed": 241,
     "status": "ok",
     "timestamp": 1614859899977,
     "user": {
      "displayName": "Greg Boss",
      "photoUrl": "https://lh3.googleusercontent.com/a-/AOh14GhhPRqwW_ulxUDi6EQAkiXmGudYqOEjCM8qKreBDbc=s64",
      "userId": "12328185785963342708"
     },
     "user_tz": 300
    },
    "id": "Vx5_ckt5RMeX",
    "outputId": "bff864be-d6cf-4e98-a59c-04e1f56f0c62"
   },
   "outputs": [],
   "source": [
    "pd.set_option('display.max_rows', 60)\n",
    "rollup"
   ]
  },
  {
   "cell_type": "code",
   "execution_count": null,
   "metadata": {
    "id": "8LBoM-yJGaKU"
   },
   "outputs": [],
   "source": []
  },
  {
   "cell_type": "markdown",
   "metadata": {
    "id": "Wgf1G0GhAtBS"
   },
   "source": [
    "#### Find best owner name for each cluster"
   ]
  },
  {
   "cell_type": "code",
   "execution_count": null,
   "metadata": {
    "id": "T4m5SmWSAr34"
   },
   "outputs": [],
   "source": [
    "import re\n",
    "\n",
    "letters = r'^[A-Z _\\-]'\n",
    "llc = r'.*LLC.*'\n",
    "lp = r'.*LP *$'\n",
    "prop = r'.*PROP.*'\n",
    "management = r'.*MANAG.*'\n",
    "mgmt = r'.*MGMT.*'\n",
    "inc = r'.*INC.*'\n",
    "box = r'.*P.?O.? BOX.*'\n",
    "def is_usable(v):\n",
    "  v = str(v)\n",
    "  return re.match(letters,v) and not re.match(llc,v) \\\n",
    "    and not re.match(prop,v) and not re.match(management,v) \\\n",
    "    and not re.match(mgmt,v) and not re.match(inc,v) \\\n",
    "    and not re.match(lp,v) and not re.match(box,v)\n",
    "\n",
    "def can_filter(s):\n",
    "  not 'GREATER_MD' in s and not 'CONIFER_FOXTAIL_GLENBURN' in s #and not 'OTTER_RUDDY_GADWALL' in s\n",
    "\n",
    "def best_group_name(id,df):\n",
    "  sample = df.query('group_id == @id')[['group_name','CAN_GROUP','ownname1','ownadd1']].fillna(\"\").copy()\n",
    "  gp = sample.group_name.value_counts().index[0]\n",
    "  if is_usable(gp):\n",
    "    return gp\n",
    "  can = sample.CAN_GROUP.value_counts().index[0]\n",
    "  if is_usable(can) and can_filter(can):\n",
    "    return can\n",
    "  own = sample.ownname1.value_counts().index[0]\n",
    "  if is_usable(own):\n",
    "    return own\n",
    "  add = sample.ownadd1.value_counts().index[0]\n",
    "  if is_usable(add):\n",
    "    return add\n",
    "  return can if can and can_filter(can) else gp\n",
    "\n",
    "group_df.group_id = group_df.group_id.astype(int)\n",
    "best_group_names = {k:best_group_name(k,group_df) for k in group_df.group_id.unique()}\n",
    "rollup['group_name'] = rollup.apply(lambda x: best_group_names.get(x.group_id,\"NA\"),axis=1)\n",
    "group_df['group_name'] = group_df.apply(lambda x: best_group_names.get(x.group_id,x.group_name),axis=1)\n"
   ]
  },
  {
   "cell_type": "markdown",
   "metadata": {
    "id": "jmhGoUM8ciM8"
   },
   "source": [
    "#### NOTES\n",
    "\n",
    "Foxtail has 2 clusters, should be 1?\n",
    "PO.BOX addresses should include zip code\n",
    "Names and address should be normalized, and aggregated across '1' and '2'"
   ]
  },
  {
   "cell_type": "code",
   "execution_count": null,
   "metadata": {
    "id": "T1eIR4YLZs1J"
   },
   "outputs": [],
   "source": [
    "rollup.to_csv('drive/My Drive/pita 2020/group_rollup.csv')\n",
    "group_df.to_csv('drive/My Drive/pita 2020/annotated_rentals.csv')"
   ]
  },
  {
   "cell_type": "code",
   "execution_count": null,
   "metadata": {
    "colab": {
     "base_uri": "https://localhost:8080/",
     "height": 660
    },
    "executionInfo": {
     "elapsed": 1103,
     "status": "ok",
     "timestamp": 1614859917196,
     "user": {
      "displayName": "Greg Boss",
      "photoUrl": "https://lh3.googleusercontent.com/a-/AOh14GhhPRqwW_ulxUDi6EQAkiXmGudYqOEjCM8qKreBDbc=s64",
      "userId": "12328185785963342708"
     },
     "user_tz": 300
    },
    "id": "Zc4j4wyCXXBD",
    "outputId": "319e985e-2333-46eb-a90a-65b7b23e1b10"
   },
   "outputs": [],
   "source": [
    "import datetime\n",
    "this_year = datetime.datetime.now().year\n",
    "\n",
    "def fill_quality_score(x):\n",
    "  sqft = x.struc_sqft if x.struc_sqft > 0 else med_sqft_assessment\n",
    "  quality = x.assessed_value/sqft/(1+np.log10(this_year - x.yearblt +1)+1)\n",
    "  return 1/quality\n",
    "\n",
    "def scale_quality_factor(q):\n",
    "  if q.not_rental_quality < 0:\n",
    "    return q.quality_factor\n",
    "  else:\n",
    "    adj_q = (max_adjusted_age_quality - q.not_rental_quality)/max_adjusted_age_quality\n",
    "    return min(1.0,(max(0.0,adj_q)))\n",
    "\n",
    "group_info = ['acctid','group_id','group_name','quality_factor']\n",
    "#output = assessments.merge(can_df,on='acctid',how='inner').merge(group_df[group_info],on='acctid',how='outer')\n",
    "output = df.merge(can_df,on='acctid',how='inner').merge(group_df[group_info],on='acctid',how='outer')\n",
    "\n",
    "output.rename(columns={'struct_sqft':'struc_sqft'},inplace=True)\n",
    "output['not_rental_quality'] = output.apply(lambda x: -1 if x.quality_factor >= 0 else fill_quality_score(x),axis=1)\n",
    "output.quality_factor = output.apply(lambda x: scale_quality_factor(x), axis=1 )\n",
    "#get_quality_factor_lookup(output)\n",
    "\n",
    "output = output.drop_duplicates(subset=['GEOLATLON']).drop(columns={'not_rental_quality'})\n",
    "output.to_csv('drive/My Drive/pita 2020/assessments-20201004.csv')\n",
    "\n",
    "\n",
    "output#.drop_duplicates(subset=['GEOLATLON'])"
   ]
  },
  {
   "cell_type": "markdown",
   "metadata": {
    "id": "Uc4fdSoy7Nqq"
   },
   "source": [
    "### Fill adjusted quality scores for non-rentals"
   ]
  },
  {
   "cell_type": "code",
   "execution_count": null,
   "metadata": {
    "colab": {
     "base_uri": "https://localhost:8080/",
     "height": 34
    },
    "executionInfo": {
     "elapsed": 318,
     "status": "ok",
     "timestamp": 1601820293749,
     "user": {
      "displayName": "Greg Boss",
      "photoUrl": "",
      "userId": "12328185785963342708"
     },
     "user_tz": 240
    },
    "id": "HfYFsZe84Tvk",
    "outputId": "9eedaaf4-23bc-42c4-94cc-f749912e55b7"
   },
   "outputs": [],
   "source": [
    "median_non_rental_assessement = output.query('LICENSE_TYPE != \"RENTAL\"').assessed_value.median()\n",
    "median_non_rental_assessement/max_median_value_per_unit"
   ]
  },
  {
   "cell_type": "code",
   "execution_count": null,
   "metadata": {
    "id": "9tlE_cDrjL4P"
   },
   "outputs": [],
   "source": [
    "import datetime\n",
    "this_year = datetime.datetime.now().year\n",
    "\n",
    "median_tax_value = can_df.merge(assessments, on='acctid').query('LICENSE_TYPE != \"RENTAL\"').assessed_value.median()\n",
    "median_not_rental_yrblt = can_df.merge(assessments, on='acctid').query('LICENSE_TYPE != \"RENTAL\"').yearblt.median()\n",
    "median_not_rental_sqft = can_df.merge(assessments, on='acctid').query('LICENSE_TYPE != \"RENTAL\"').struct_sqft.median()\n",
    "age_quality_not_rental = median_tax_value/median_not_rental_sqft/(1+np.log10(this_year - median_not_rental_yrblt +1)+1)\n",
    "\n",
    "non_rental_age_quality = (max_adjusted_age_quality - 1/age_quality_not_rental)/max_adjusted_age_quality\n",
    "residential_median = adj_median_tax_value = median_tax_value/max_median_value_per_unit\n",
    "#median_value_per_unit\n",
    "#can_df.merge(assessments, on='acctid').query('LICENSE_TYPE != \"RENTAL\"').assessed_value.mean()\n"
   ]
  },
  {
   "cell_type": "code",
   "execution_count": null,
   "metadata": {
    "colab": {
     "base_uri": "https://localhost:8080/",
     "height": 490
    },
    "executionInfo": {
     "elapsed": 1316,
     "status": "ok",
     "timestamp": 1601820299669,
     "user": {
      "displayName": "Greg Boss",
      "photoUrl": "",
      "userId": "12328185785963342708"
     },
     "user_tz": 240
    },
    "id": "z08HWegU6qmq",
    "outputId": "01c2b2e5-ff9a-4eac-b666-5186475639ab"
   },
   "outputs": [],
   "source": [
    "import matplotlib as mpl\n",
    "cmap = mpl.cm.cool\n",
    "f, ax = plt.subplots(figsize=(7, 7))\n",
    "\n",
    "norm = mpl.colors.Normalize(vmin=0.0, vmax=1.0)\n",
    "\n",
    "#cb1 = mpl.colorbar.ColorbarBase(ax, cmap=cmap,\n",
    "#                                norm=norm,\n",
    "#                                orientation='horizontal')\n",
    "#cb1.set_label('Some Units')\n",
    "\n",
    "sm = plt.cm.ScalarMappable(cmap=\"RdYlGn\", norm=norm)\n",
    "sm.set_array([])\n",
    "\n",
    "#ax.set(xscale='log',yscale='log')\n",
    "sns.set_style(\"dark\")\n",
    "colors = rollup.pita_score.values\n",
    "\n",
    "selection = rollup.query('group_name != \"CAMBRIDGE RESIDENT\" and group_name != \"CAMBRIDGE_CLUB\" and group_name != \"WOODS_CROSSING\"')\n",
    "factor = 1.0\n",
    "\n",
    "log_properties = selection.property_count.apply(lambda x: 10* pow((np.log10(x) +1),2)).values\n",
    "\n",
    "sns.set(rc={'axes.facecolor':'cornflowerblue', 'figure.facecolor':'cornflowerblue'})\n",
    "sns.scatterplot(data=selection,x='median_value_score',y='age_quality_score',hue='pita_score',palette=\"RdYlGn\", size=log_properties)\n",
    "plt.plot([0,median_value_per_unit*factor],[median_adjusted_age_quality*factor,0],linewidth=2,c='black')\n",
    "plt.plot([residential_median,residential_median],[0,1],linewidth=1,c='black')\n",
    "\n",
    "#plt.plot([0,adj_median_tax_value*factor],[non_rental_age_quality*factor,0],linewidth=2,c='green')#\n",
    "ax.get_legend().remove()\n",
    "plt.ylim(0.0, 1.0)\n",
    "plt.xlim(0.0,1.0)\n",
    "ax.figure.colorbar(sm, label='age x value scores')\n",
    "plt.annotate('50% of rentals > this quality',xy=(0.0,median_adjusted_age_quality),\n",
    "             xytext=(0.05,median_adjusted_age_quality + 0.2),\n",
    "             arrowprops=dict(arrowstyle=\"->\",color='red'),\n",
    "             horizontalalignment='left',\n",
    "             verticalalignment='bottom',)\n",
    "plt.annotate('50% of rentals > this value',xy=(median_value_per_unit,0.0),\n",
    "             xytext=(median_value_per_unit + 0.2, 0.05),\n",
    "             arrowprops=dict(arrowstyle=\"->\",color='red'),\n",
    "             horizontalalignment='left',\n",
    "             verticalalignment='bottom',)\n",
    "plt.annotate('50% of non-rentals\\n assessed > this value',xy=(residential_median,0.5),\n",
    "             xytext=(median_value_per_unit + 0.2, 0.5),\n",
    "             arrowprops=dict(arrowstyle=\"->\",color='red'),\n",
    "             horizontalalignment='left',\n",
    "             verticalalignment='bottom',)\n",
    "print(\"x=0\", median_adjusted_age_quality*factor)\n",
    "print(\"y=0\", median_value_per_unit*factor)\n",
    "plt.savefig('drive/My Drive/pita 2020/20200920-rental_quality.png')\n"
   ]
  },
  {
   "cell_type": "code",
   "execution_count": null,
   "metadata": {
    "colab": {
     "base_uri": "https://localhost:8080/",
     "height": 846
    },
    "executionInfo": {
     "elapsed": 437,
     "status": "ok",
     "timestamp": 1601820348275,
     "user": {
      "displayName": "Greg Boss",
      "photoUrl": "",
      "userId": "12328185785963342708"
     },
     "user_tz": 240
    },
    "id": "oey42L8xPltC",
    "outputId": "5262533d-75d5-48bf-ff79-16b57976452a"
   },
   "outputs": [],
   "source": [
    "# y = mx + b : median_adjusted_age_quality\n",
    "# b @ x = 0, median_adjusted_age_quality\n",
    "# x = median_value_per_unit (actually value_score)\n",
    "# m = -median_adjusted_age_quality/median_value_per_unit\n",
    "# y < mx + b\n",
    "# y-b = mx\n",
    "# x < x * (y-b)/(y-b)\n",
    "# m = (y-b)/x\n",
    "# x = 0\n",
    "b = median_adjusted_age_quality*factor\n",
    "#y = 0\n",
    "m = -1.0 * b/median_value_per_unit\n",
    "print(\"y = {} x + {}\".format(m,b))\n",
    "pita = rollup.query('age_quality_score <= @m * median_value_score + @b')\n",
    "#pita = selection.query('pita_score < 0.2 and avg_value_per_property < @median_tax_value').sort_values(by=['total_units','pita_score'],ascending=False)\n",
    "print(len(pita))\n",
    "pita"
   ]
  },
  {
   "cell_type": "code",
   "execution_count": null,
   "metadata": {
    "id": "16HbrmGdci3y"
   },
   "outputs": [],
   "source": [
    "pita.to_csv('drive/My Drive/pita 2020/20200920-lowest_rentals.csv')"
   ]
  },
  {
   "cell_type": "code",
   "execution_count": null,
   "metadata": {
    "colab": {
     "base_uri": "https://localhost:8080/",
     "height": 34
    },
    "executionInfo": {
     "elapsed": 579,
     "status": "ok",
     "timestamp": 1601744169086,
     "user": {
      "displayName": "Greg Boss",
      "photoUrl": "",
      "userId": "12328185785963342708"
     },
     "user_tz": 240
    },
    "id": "EJX9hrQpvZVL",
    "outputId": "6e846951-e75a-4147-82bd-5559440df075"
   },
   "outputs": [],
   "source": [
    "#group_df.query('group_name.str.contains(\"BRADLEY\")',engine='python')\n",
    "#group_df.query('group_id == 3')\n",
    "print(len(output.query('LICENSE_TYPE != \"RENTAL\"')),pita.total_units.sum())"
   ]
  },
  {
   "cell_type": "code",
   "execution_count": null,
   "metadata": {
    "id": "1RLoUz5_30j6"
   },
   "outputs": [],
   "source": []
  }
 ],
 "metadata": {
  "colab": {
   "authorship_tag": "ABX9TyOUyv3pocMBYQ3UCfoPQoKV",
   "collapsed_sections": [],
   "name": "base_scoring.ipynb",
   "provenance": [
    {
     "file_id": "1LN5fOt7Dop3L_Fp92UQGjySwusOtQPNj",
     "timestamp": 1620595994820
    }
   ]
  },
  "kernelspec": {
   "display_name": "Python 3",
   "language": "python",
   "name": "python3"
  },
  "language_info": {
   "codemirror_mode": {
    "name": "ipython",
    "version": 3
   },
   "file_extension": ".py",
   "mimetype": "text/x-python",
   "name": "python",
   "nbconvert_exporter": "python",
   "pygments_lexer": "ipython3",
   "version": "3.8.5"
  }
 },
 "nbformat": 4,
 "nbformat_minor": 1
}
