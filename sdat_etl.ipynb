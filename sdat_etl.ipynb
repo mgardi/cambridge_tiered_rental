{
 "cells": [
  {
   "cell_type": "markdown",
   "metadata": {
    "id": "TaX_Dk3u6Thg"
   },
   "source": [
    "# Begin tiered rental score by updating sdata\n",
    "\n",
    "## Sales and assetment data avilable on MD department of planning and MD open data are the foundation for ownership, tax id, and address information used to tie rentals to owners\n",
    "\n",
    "\n",
    "### SDAT information is maintained from a baseline that was updated to 2017, available in a zip file on this link.  The file interest is: Dorc2017.dbf  \n",
    "https://www.dropbox.com/s/oc1l1frorg66vlr/DORC_MPV17.zip\n",
    "extract it using: \n",
    "```\n",
    "$> tar -xf DORC_MPV17.zip Dorc2017/ATDATA/DATABASE/Dorc2017dbf\n",
    "``` \n",
    "or on mac: \n",
    "```\n",
    "unzip DORC_MPV17.zip Dorc2017/ATDATA/DATABASE/Dorc2017dbf\n",
    "``` \n",
    "\n",
    "### SDAT is updated by aggregating all published updates on MD Department of planning   \n",
    "Updating this file requires downloading monthly (or quarterly) changes listed on this page under 'Sales Data':\n",
    "https://planning.maryland.gov/Pages/OurProducts/DownloadFiles.aspx\n",
    "\n",
    "All of the update files must be saved in /SDATA folder so script can aggregate all upadtes in a single file written from this notebook. This notebook pulls data updates from all Sales .dbf files saved in /SDATA folder path.\n",
    "\n",
    "### Housing Assestment data is then pulled from MD open data portal 'Maryland Real Property Assessments: Hidden Property Owner Names'\n",
    "This data set is updated monthly and enriches sdata with assetment and sqft data. Available at https://opendata.maryland.gov/Business-and-Economy/Maryland-Real-Property-Assessments-Hidden-Property/ed4q-f8tm\n",
    "\n",
    "\n",
    "**Latest update:** Through July 2021"
   ]
  },
  {
   "cell_type": "code",
   "execution_count": 46,
   "metadata": {},
   "outputs": [],
   "source": [
    "# TODO: Set environment dynamically \n",
    "enviro = 'dev'\n",
    "\n",
    "####\n",
    "# Set Latest File Names & data path - UPDATE TO LATEST \n",
    "###\n",
    "sdat_fn = 'md_sdat/Dorc2017.dbf'\n",
    "test_sdat_fn = 'Sale0521.dbf'\n",
    "can_enrich_fn = 'geocoding/CAN-ref.csv'\n",
    "output_fn = '_output/SDAT-CAN-ref-072021_src_sdat_etl.csv'\n",
    "\n",
    "# Data file path \n",
    "if enviro == 'dev':\n",
    "    path = 'data/'\n",
    "    \n",
    "     # Folder with all sdat .dbf updates\n",
    "    sdat_updates_folder = 'md_sdat/SDAT_Updates/'\n",
    "else: \n",
    "    path = '/content/drive/My Drive/pita 2021/'\n",
    "    \n",
    "    # mount google drive with data \n",
    "    from google.colab import drive\n",
    "    drive.mount('/content/drive')\n",
    "    \n",
    "    # Folder with all sdat .dbf updates\n",
    "    sdat_updates_folder = 'drive/My Drive/SDAT/'"
   ]
  },
  {
   "cell_type": "code",
   "execution_count": 2,
   "metadata": {
    "colab": {
     "base_uri": "https://localhost:8080/"
    },
    "executionInfo": {
     "elapsed": 2997,
     "status": "ok",
     "timestamp": 1622678339551,
     "user": {
      "displayName": "Greg Boss",
      "photoUrl": "https://lh3.googleusercontent.com/a-/AOh14GhhPRqwW_ulxUDi6EQAkiXmGudYqOEjCM8qKreBDbc=s64",
      "userId": "12328185785963342708"
     },
     "user_tz": 240
    },
    "id": "4DRVvGtiy3cl",
    "outputId": "7ca55e04-a77e-481b-d20b-113ccee67e15"
   },
   "outputs": [
    {
     "name": "stdout",
     "output_type": "stream",
     "text": [
      "Requirement already satisfied: simpledbf in /opt/anaconda3/lib/python3.8/site-packages (0.2.6)\r\n"
     ]
    }
   ],
   "source": [
    "# add any packages that aren't available by default\n",
    "!pip install simpledbf"
   ]
  },
  {
   "cell_type": "code",
   "execution_count": 3,
   "metadata": {
    "executionInfo": {
     "elapsed": 199,
     "status": "ok",
     "timestamp": 1622678339747,
     "user": {
      "displayName": "Greg Boss",
      "photoUrl": "https://lh3.googleusercontent.com/a-/AOh14GhhPRqwW_ulxUDi6EQAkiXmGudYqOEjCM8qKreBDbc=s64",
      "userId": "12328185785963342708"
     },
     "user_tz": 240
    },
    "id": "ghTZi4-3Tefn"
   },
   "outputs": [],
   "source": [
    "import pandas as pd\n",
    "from simpledbf import Dbf5\n",
    "from os import walk"
   ]
  },
  {
   "cell_type": "markdown",
   "metadata": {
    "id": "edqxhf9xx7y1"
   },
   "source": [
    "## Step one create single SDAT file\n",
    "\n",
    "#### Open the baseline 2017 sdat file from the state"
   ]
  },
  {
   "cell_type": "code",
   "execution_count": 4,
   "metadata": {
    "executionInfo": {
     "elapsed": 3895,
     "status": "ok",
     "timestamp": 1622678345590,
     "user": {
      "displayName": "Greg Boss",
      "photoUrl": "https://lh3.googleusercontent.com/a-/AOh14GhhPRqwW_ulxUDi6EQAkiXmGudYqOEjCM8qKreBDbc=s64",
      "userId": "12328185785963342708"
     },
     "user_tz": 240
    },
    "id": "h3LmidrxT8jM"
   },
   "outputs": [],
   "source": [
    "dbf = Dbf5(path+sdat_fn)\n",
    "df = dbf.to_dataframe()\n",
    "df = df.set_index('acctid')"
   ]
  },
  {
   "cell_type": "markdown",
   "metadata": {
    "id": "wsCecmGVyD_N"
   },
   "source": [
    "#### Discover all the update files, and append them in the order they were published"
   ]
  },
  {
   "cell_type": "code",
   "execution_count": 5,
   "metadata": {
    "colab": {
     "base_uri": "https://localhost:8080/"
    },
    "executionInfo": {
     "elapsed": 303212,
     "status": "ok",
     "timestamp": 1622678648786,
     "user": {
      "displayName": "Greg Boss",
      "photoUrl": "https://lh3.googleusercontent.com/a-/AOh14GhhPRqwW_ulxUDi6EQAkiXmGudYqOEjCM8qKreBDbc=s64",
      "userId": "12328185785963342708"
     },
     "user_tz": 240
    },
    "id": "dKF2ZBUeVrNp",
    "outputId": "017475af-7be7-4f8c-bed4-f6eb686e89e0"
   },
   "outputs": [
    {
     "name": "stdout",
     "output_type": "stream",
     "text": [
      "rows: 23202\n",
      "final: 23202\n"
     ]
    }
   ],
   "source": [
    "def update(df):\n",
    "  print(\"rows:\",len(df))\n",
    "  for (dirpath, dirnames, filenames) in walk(sdat_updates_folder):\n",
    "      for file in ([name for name in sorted(filenames) if 'SALE' in name.upper()]):\n",
    "        print(dirpath+file)\n",
    "        add_df = Dbf5(dirpath+file)\n",
    "        new_df = add_df.to_dataframe()\n",
    "        new_df.columns = [col.lower() for col in new_df.columns]\n",
    "        new_df = new_df.query('jurscode == \"DORC\"').set_index('acctid')\n",
    "        new_df = new_df[~new_df.index.duplicated(keep='last')] #keep last update\n",
    "        updates = [str(v) for v in set(df.index.values).intersection(set(new_df.index.values)) if int(v) > 0]\n",
    "        df = df.drop(updates)\n",
    "        update_columns = set(df.columns).intersection(set(new_df.columns))\n",
    "        df = df.append(new_df[update_columns])\n",
    "      break\n",
    "  df = df[~df.index.duplicated(keep='last')]\n",
    "  print(\"final:\",len(df))\n",
    "  return df\n",
    "\n",
    "merged_df = update(df.copy())"
   ]
  },
  {
   "cell_type": "markdown",
   "metadata": {
    "id": "6sH_NB0-PB7p"
   },
   "source": [
    "## TEST CASE\n",
    "\n",
    "#### Check to verify the updates from MD are applied OK.  Look up one record that we know was updated.  The merged_df should be like the new record, and the original df should be different now."
   ]
  },
  {
   "cell_type": "code",
   "execution_count": 6,
   "metadata": {
    "colab": {
     "base_uri": "https://localhost:8080/",
     "height": 228
    },
    "executionInfo": {
     "elapsed": 23402,
     "status": "ok",
     "timestamp": 1622678723479,
     "user": {
      "displayName": "Greg Boss",
      "photoUrl": "https://lh3.googleusercontent.com/a-/AOh14GhhPRqwW_ulxUDi6EQAkiXmGudYqOEjCM8qKreBDbc=s64",
      "userId": "12328185785963342708"
     },
     "user_tz": 240
    },
    "id": "f4A2hbCYehAz",
    "outputId": "5d10cdde-22cd-4dfc-e10b-041aa7a038d5"
   },
   "outputs": [
    {
     "data": {
      "text/html": [
       "<div>\n",
       "<style scoped>\n",
       "    .dataframe tbody tr th:only-of-type {\n",
       "        vertical-align: middle;\n",
       "    }\n",
       "\n",
       "    .dataframe tbody tr th {\n",
       "        vertical-align: top;\n",
       "    }\n",
       "\n",
       "    .dataframe thead th {\n",
       "        text-align: right;\n",
       "    }\n",
       "</style>\n",
       "<table border=\"1\" class=\"dataframe\">\n",
       "  <thead>\n",
       "    <tr style=\"text-align: right;\">\n",
       "      <th></th>\n",
       "      <th>jurscode</th>\n",
       "      <th>digxcord</th>\n",
       "      <th>digycord</th>\n",
       "      <th>ct2010</th>\n",
       "      <th>bg2010</th>\n",
       "      <th>geogcode</th>\n",
       "      <th>ooi</th>\n",
       "      <th>address</th>\n",
       "      <th>city</th>\n",
       "      <th>zipcode</th>\n",
       "      <th>...</th>\n",
       "      <th>mortgag1</th>\n",
       "      <th>curlndvl</th>\n",
       "      <th>curimpvl</th>\n",
       "      <th>curttlvl</th>\n",
       "      <th>sallndvl</th>\n",
       "      <th>salimpvl</th>\n",
       "      <th>salttlvl</th>\n",
       "      <th>ptype</th>\n",
       "      <th>sdatwebadr</th>\n",
       "      <th>existing</th>\n",
       "    </tr>\n",
       "    <tr>\n",
       "      <th>acctid</th>\n",
       "      <th></th>\n",
       "      <th></th>\n",
       "      <th></th>\n",
       "      <th></th>\n",
       "      <th></th>\n",
       "      <th></th>\n",
       "      <th></th>\n",
       "      <th></th>\n",
       "      <th></th>\n",
       "      <th></th>\n",
       "      <th></th>\n",
       "      <th></th>\n",
       "      <th></th>\n",
       "      <th></th>\n",
       "      <th></th>\n",
       "      <th></th>\n",
       "      <th></th>\n",
       "      <th></th>\n",
       "      <th></th>\n",
       "      <th></th>\n",
       "      <th></th>\n",
       "    </tr>\n",
       "  </thead>\n",
       "  <tbody>\n",
       "    <tr>\n",
       "      <th>1001000020</th>\n",
       "      <td>DORC</td>\n",
       "      <td>505757.4</td>\n",
       "      <td>99135.2</td>\n",
       "      <td>24019970100</td>\n",
       "      <td>240199701002</td>\n",
       "      <td>80</td>\n",
       "      <td>D</td>\n",
       "      <td>5430 INDIANTOWN ROAD</td>\n",
       "      <td>RHODESDALE</td>\n",
       "      <td>21659</td>\n",
       "      <td>...</td>\n",
       "      <td>0</td>\n",
       "      <td>71800</td>\n",
       "      <td>266300</td>\n",
       "      <td>0</td>\n",
       "      <td>71800</td>\n",
       "      <td>266300</td>\n",
       "      <td>0</td>\n",
       "      <td>2</td>\n",
       "      <td>https://sdat.dat.maryland.gov/RealProperty/Pag...</td>\n",
       "      <td>MDPV2017_18</td>\n",
       "    </tr>\n",
       "  </tbody>\n",
       "</table>\n",
       "<p>1 rows × 95 columns</p>\n",
       "</div>"
      ],
      "text/plain": [
       "           jurscode  digxcord  digycord       ct2010        bg2010 geogcode  \\\n",
       "acctid                                                                        \n",
       "1001000020     DORC  505757.4   99135.2  24019970100  240199701002       80   \n",
       "\n",
       "           ooi               address        city zipcode  ... mortgag1  \\\n",
       "acctid                                                    ...            \n",
       "1001000020   D  5430 INDIANTOWN ROAD  RHODESDALE   21659  ...        0   \n",
       "\n",
       "           curlndvl curimpvl curttlvl sallndvl salimpvl salttlvl ptype  \\\n",
       "acctid                                                                   \n",
       "1001000020    71800   266300        0    71800   266300        0     2   \n",
       "\n",
       "                                                   sdatwebadr     existing  \n",
       "acctid                                                                      \n",
       "1001000020  https://sdat.dat.maryland.gov/RealProperty/Pag...  MDPV2017_18  \n",
       "\n",
       "[1 rows x 95 columns]"
      ]
     },
     "execution_count": 6,
     "metadata": {},
     "output_type": "execute_result"
    }
   ],
   "source": [
    "add_df = Dbf5(path+sdat_updates_folder+test_sdat_fn)\n",
    "test_df = add_df.to_dataframe()\n",
    "test_df.columns = [col.lower() for col in test_df.columns]\n",
    "test_df = test_df.query('jurscode == \"DORC\"').set_index('acctid')\n",
    "\n",
    "test_df.query('acctid == \"1001000020\"')"
   ]
  },
  {
   "cell_type": "code",
   "execution_count": 7,
   "metadata": {
    "colab": {
     "base_uri": "https://localhost:8080/",
     "height": 211
    },
    "executionInfo": {
     "elapsed": 188,
     "status": "ok",
     "timestamp": 1622678665651,
     "user": {
      "displayName": "Greg Boss",
      "photoUrl": "https://lh3.googleusercontent.com/a-/AOh14GhhPRqwW_ulxUDi6EQAkiXmGudYqOEjCM8qKreBDbc=s64",
      "userId": "12328185785963342708"
     },
     "user_tz": 240
    },
    "id": "YzxGDTdrPEJg",
    "outputId": "b91f2ffd-56c1-48a6-d6f0-e1e6c547ba91"
   },
   "outputs": [
    {
     "data": {
      "text/html": [
       "<div>\n",
       "<style scoped>\n",
       "    .dataframe tbody tr th:only-of-type {\n",
       "        vertical-align: middle;\n",
       "    }\n",
       "\n",
       "    .dataframe tbody tr th {\n",
       "        vertical-align: top;\n",
       "    }\n",
       "\n",
       "    .dataframe thead th {\n",
       "        text-align: right;\n",
       "    }\n",
       "</style>\n",
       "<table border=\"1\" class=\"dataframe\">\n",
       "  <thead>\n",
       "    <tr style=\"text-align: right;\">\n",
       "      <th></th>\n",
       "      <th>jurscode</th>\n",
       "      <th>digxcord</th>\n",
       "      <th>digycord</th>\n",
       "      <th>ct2010</th>\n",
       "      <th>bg2010</th>\n",
       "      <th>geogcode</th>\n",
       "      <th>ooi</th>\n",
       "      <th>resityp</th>\n",
       "      <th>address</th>\n",
       "      <th>strtnum</th>\n",
       "      <th>...</th>\n",
       "      <th>resi1990</th>\n",
       "      <th>resiuths</th>\n",
       "      <th>aprtment</th>\n",
       "      <th>trailer</th>\n",
       "      <th>special</th>\n",
       "      <th>other</th>\n",
       "      <th>ptype</th>\n",
       "      <th>sdatwebadr</th>\n",
       "      <th>existing</th>\n",
       "      <th>mdpvdate</th>\n",
       "    </tr>\n",
       "    <tr>\n",
       "      <th>acctid</th>\n",
       "      <th></th>\n",
       "      <th></th>\n",
       "      <th></th>\n",
       "      <th></th>\n",
       "      <th></th>\n",
       "      <th></th>\n",
       "      <th></th>\n",
       "      <th></th>\n",
       "      <th></th>\n",
       "      <th></th>\n",
       "      <th></th>\n",
       "      <th></th>\n",
       "      <th></th>\n",
       "      <th></th>\n",
       "      <th></th>\n",
       "      <th></th>\n",
       "      <th></th>\n",
       "      <th></th>\n",
       "      <th></th>\n",
       "      <th></th>\n",
       "      <th></th>\n",
       "    </tr>\n",
       "  </thead>\n",
       "  <tbody>\n",
       "    <tr>\n",
       "      <th>1001000020</th>\n",
       "      <td>DORC</td>\n",
       "      <td>505757.4</td>\n",
       "      <td>99135.2</td>\n",
       "      <td>24019970100</td>\n",
       "      <td>240199701002</td>\n",
       "      <td>80</td>\n",
       "      <td>D</td>\n",
       "      <td>SF</td>\n",
       "      <td>5430 INDIANTOWN ROAD</td>\n",
       "      <td>5430</td>\n",
       "      <td>...</td>\n",
       "      <td>0</td>\n",
       "      <td>0</td>\n",
       "      <td>0</td>\n",
       "      <td>0</td>\n",
       "      <td>0</td>\n",
       "      <td>1</td>\n",
       "      <td>2</td>\n",
       "      <td>http://sdat.dat.maryland.gov/RealProperty/Page...</td>\n",
       "      <td>MDPV2017_18</td>\n",
       "      <td>2020JUN</td>\n",
       "    </tr>\n",
       "  </tbody>\n",
       "</table>\n",
       "<p>1 rows × 129 columns</p>\n",
       "</div>"
      ],
      "text/plain": [
       "           jurscode  digxcord  digycord       ct2010        bg2010 geogcode  \\\n",
       "acctid                                                                        \n",
       "1001000020     DORC  505757.4   99135.2  24019970100  240199701002       80   \n",
       "\n",
       "           ooi resityp               address strtnum  ... resi1990 resiuths  \\\n",
       "acctid                                                ...                     \n",
       "1001000020   D      SF  5430 INDIANTOWN ROAD    5430  ...        0        0   \n",
       "\n",
       "           aprtment trailer special other ptype  \\\n",
       "acctid                                            \n",
       "1001000020        0       0       0     1     2   \n",
       "\n",
       "                                                   sdatwebadr     existing  \\\n",
       "acctid                                                                       \n",
       "1001000020  http://sdat.dat.maryland.gov/RealProperty/Page...  MDPV2017_18   \n",
       "\n",
       "           mdpvdate  \n",
       "acctid               \n",
       "1001000020  2020JUN  \n",
       "\n",
       "[1 rows x 129 columns]"
      ]
     },
     "execution_count": 7,
     "metadata": {},
     "output_type": "execute_result"
    }
   ],
   "source": [
    "df.query('acctid == \"1001000020\"')"
   ]
  },
  {
   "cell_type": "code",
   "execution_count": 8,
   "metadata": {
    "colab": {
     "base_uri": "https://localhost:8080/",
     "height": 194
    },
    "executionInfo": {
     "elapsed": 171,
     "status": "ok",
     "timestamp": 1622678666266,
     "user": {
      "displayName": "Greg Boss",
      "photoUrl": "https://lh3.googleusercontent.com/a-/AOh14GhhPRqwW_ulxUDi6EQAkiXmGudYqOEjCM8qKreBDbc=s64",
      "userId": "12328185785963342708"
     },
     "user_tz": 240
    },
    "id": "eXNJxzaD3jMB",
    "outputId": "f8fae5f5-d18b-40dc-cd38-c9110f867742"
   },
   "outputs": [
    {
     "data": {
      "text/html": [
       "<div>\n",
       "<style scoped>\n",
       "    .dataframe tbody tr th:only-of-type {\n",
       "        vertical-align: middle;\n",
       "    }\n",
       "\n",
       "    .dataframe tbody tr th {\n",
       "        vertical-align: top;\n",
       "    }\n",
       "\n",
       "    .dataframe thead th {\n",
       "        text-align: right;\n",
       "    }\n",
       "</style>\n",
       "<table border=\"1\" class=\"dataframe\">\n",
       "  <thead>\n",
       "    <tr style=\"text-align: right;\">\n",
       "      <th></th>\n",
       "      <th>jurscode</th>\n",
       "      <th>digxcord</th>\n",
       "      <th>digycord</th>\n",
       "      <th>ct2010</th>\n",
       "      <th>bg2010</th>\n",
       "      <th>geogcode</th>\n",
       "      <th>ooi</th>\n",
       "      <th>resityp</th>\n",
       "      <th>address</th>\n",
       "      <th>strtnum</th>\n",
       "      <th>...</th>\n",
       "      <th>resi1990</th>\n",
       "      <th>resiuths</th>\n",
       "      <th>aprtment</th>\n",
       "      <th>trailer</th>\n",
       "      <th>special</th>\n",
       "      <th>other</th>\n",
       "      <th>ptype</th>\n",
       "      <th>sdatwebadr</th>\n",
       "      <th>existing</th>\n",
       "      <th>mdpvdate</th>\n",
       "    </tr>\n",
       "    <tr>\n",
       "      <th>acctid</th>\n",
       "      <th></th>\n",
       "      <th></th>\n",
       "      <th></th>\n",
       "      <th></th>\n",
       "      <th></th>\n",
       "      <th></th>\n",
       "      <th></th>\n",
       "      <th></th>\n",
       "      <th></th>\n",
       "      <th></th>\n",
       "      <th></th>\n",
       "      <th></th>\n",
       "      <th></th>\n",
       "      <th></th>\n",
       "      <th></th>\n",
       "      <th></th>\n",
       "      <th></th>\n",
       "      <th></th>\n",
       "      <th></th>\n",
       "      <th></th>\n",
       "      <th></th>\n",
       "    </tr>\n",
       "  </thead>\n",
       "  <tbody>\n",
       "    <tr>\n",
       "      <th>1001000020</th>\n",
       "      <td>DORC</td>\n",
       "      <td>505757.4</td>\n",
       "      <td>99135.2</td>\n",
       "      <td>24019970100</td>\n",
       "      <td>240199701002</td>\n",
       "      <td>80</td>\n",
       "      <td>D</td>\n",
       "      <td>SF</td>\n",
       "      <td>5430 INDIANTOWN ROAD</td>\n",
       "      <td>5430</td>\n",
       "      <td>...</td>\n",
       "      <td>0</td>\n",
       "      <td>0</td>\n",
       "      <td>0</td>\n",
       "      <td>0</td>\n",
       "      <td>0</td>\n",
       "      <td>1</td>\n",
       "      <td>2</td>\n",
       "      <td>http://sdat.dat.maryland.gov/RealProperty/Page...</td>\n",
       "      <td>MDPV2017_18</td>\n",
       "      <td>2020JUN</td>\n",
       "    </tr>\n",
       "  </tbody>\n",
       "</table>\n",
       "<p>1 rows × 129 columns</p>\n",
       "</div>"
      ],
      "text/plain": [
       "           jurscode  digxcord  digycord       ct2010        bg2010 geogcode  \\\n",
       "acctid                                                                        \n",
       "1001000020     DORC  505757.4   99135.2  24019970100  240199701002       80   \n",
       "\n",
       "           ooi resityp               address strtnum  ... resi1990 resiuths  \\\n",
       "acctid                                                ...                     \n",
       "1001000020   D      SF  5430 INDIANTOWN ROAD    5430  ...        0        0   \n",
       "\n",
       "           aprtment trailer special other ptype  \\\n",
       "acctid                                            \n",
       "1001000020        0       0       0     1     2   \n",
       "\n",
       "                                                   sdatwebadr     existing  \\\n",
       "acctid                                                                       \n",
       "1001000020  http://sdat.dat.maryland.gov/RealProperty/Page...  MDPV2017_18   \n",
       "\n",
       "           mdpvdate  \n",
       "acctid               \n",
       "1001000020  2020JUN  \n",
       "\n",
       "[1 rows x 129 columns]"
      ]
     },
     "execution_count": 8,
     "metadata": {},
     "output_type": "execute_result"
    }
   ],
   "source": [
    "merged_df.query('acctid == \"1001000020\"')"
   ]
  },
  {
   "cell_type": "markdown",
   "metadata": {
    "id": "_9m6Djbn1hRi"
   },
   "source": [
    "## TEST CASE\n",
    "\n",
    "#### Verify the result joins cleanly with some enrichment data we carry from year to year  \n",
    "This is things like names of rental operation groups, notes, etc that we might want to reference with the new data.  This will be added later so we don't have to store it multiple times."
   ]
  },
  {
   "cell_type": "code",
   "execution_count": 23,
   "metadata": {
    "colab": {
     "base_uri": "https://localhost:8080/"
    },
    "executionInfo": {
     "elapsed": 1615,
     "status": "ok",
     "timestamp": 1622678777082,
     "user": {
      "displayName": "Greg Boss",
      "photoUrl": "https://lh3.googleusercontent.com/a-/AOh14GhhPRqwW_ulxUDi6EQAkiXmGudYqOEjCM8qKreBDbc=s64",
      "userId": "12328185785963342708"
     },
     "user_tz": 240
    },
    "id": "UWUNjEGoymxS",
    "outputId": "07fb05c1-a590-4793-83ea-52dc3d907fa1"
   },
   "outputs": [
    {
     "name": "stdout",
     "output_type": "stream",
     "text": [
      "(7924, 'records. Enriched after the join:', 7854)\n",
      "These have an issue, but that looks ok because only : 3 Housing have issues\n",
      "Remaining with an issue : 67 are not Housing\n"
     ]
    }
   ],
   "source": [
    "enrichment = pd.read_csv(path+can_enrich_fn).set_index('acctid')\n",
    "e_merge = merged_df.merge(enrichment, left_index=True, right_index=True, how='outer', indicator=True)\n",
    "print((len(enrichment), \"records. Enriched after the join:\", len(e_merge.query('_merge == \"both\"'))))\n",
    "print(\"These have an issue, but that looks ok because only :\",\\\n",
    "      len(e_merge.query('_merge == \"right_only\"')[e_merge.query('_merge == \"right_only\"')['CAN_OWNCLASS']==\"HOUSING\"])\\\n",
    "     , \"Housing have issues\")\n",
    "\n",
    "print(\"Remaining with an issue :\",\\\n",
    "      len(e_merge.query('_merge == \"right_only\"')[e_merge.query('_merge == \"right_only\"')['CAN_OWNCLASS']!=\"HOUSING\"])\\\n",
    "     , \"are not Housing\")\n"
   ]
  },
  {
   "cell_type": "code",
   "execution_count": 24,
   "metadata": {},
   "outputs": [
    {
     "data": {
      "text/html": [
       "<div>\n",
       "<style scoped>\n",
       "    .dataframe tbody tr th:only-of-type {\n",
       "        vertical-align: middle;\n",
       "    }\n",
       "\n",
       "    .dataframe tbody tr th {\n",
       "        vertical-align: top;\n",
       "    }\n",
       "\n",
       "    .dataframe thead th {\n",
       "        text-align: right;\n",
       "    }\n",
       "</style>\n",
       "<table border=\"1\" class=\"dataframe\">\n",
       "  <thead>\n",
       "    <tr style=\"text-align: right;\">\n",
       "      <th></th>\n",
       "      <th>jurscode</th>\n",
       "      <th>digxcord</th>\n",
       "      <th>digycord</th>\n",
       "      <th>ct2010</th>\n",
       "      <th>bg2010</th>\n",
       "      <th>geogcode</th>\n",
       "      <th>ooi</th>\n",
       "      <th>resityp</th>\n",
       "      <th>address</th>\n",
       "      <th>strtnum</th>\n",
       "      <th>...</th>\n",
       "      <th>other</th>\n",
       "      <th>ptype</th>\n",
       "      <th>sdatwebadr</th>\n",
       "      <th>existing</th>\n",
       "      <th>mdpvdate</th>\n",
       "      <th>CAN_GROUP</th>\n",
       "      <th>CAN_OWNCLASS</th>\n",
       "      <th>GEOLATLON</th>\n",
       "      <th>GEOHASH</th>\n",
       "      <th>_merge</th>\n",
       "    </tr>\n",
       "    <tr>\n",
       "      <th>acctid</th>\n",
       "      <th></th>\n",
       "      <th></th>\n",
       "      <th></th>\n",
       "      <th></th>\n",
       "      <th></th>\n",
       "      <th></th>\n",
       "      <th></th>\n",
       "      <th></th>\n",
       "      <th></th>\n",
       "      <th></th>\n",
       "      <th></th>\n",
       "      <th></th>\n",
       "      <th></th>\n",
       "      <th></th>\n",
       "      <th></th>\n",
       "      <th></th>\n",
       "      <th></th>\n",
       "      <th></th>\n",
       "      <th></th>\n",
       "      <th></th>\n",
       "      <th></th>\n",
       "    </tr>\n",
       "  </thead>\n",
       "  <tbody>\n",
       "    <tr>\n",
       "      <th>1007127049-1</th>\n",
       "      <td>NaN</td>\n",
       "      <td>NaN</td>\n",
       "      <td>NaN</td>\n",
       "      <td>NaN</td>\n",
       "      <td>NaN</td>\n",
       "      <td>NaN</td>\n",
       "      <td>NaN</td>\n",
       "      <td>NaN</td>\n",
       "      <td>NaN</td>\n",
       "      <td>NaN</td>\n",
       "      <td>...</td>\n",
       "      <td>NaN</td>\n",
       "      <td>NaN</td>\n",
       "      <td>NaN</td>\n",
       "      <td>NaN</td>\n",
       "      <td>NaN</td>\n",
       "      <td>BRADLEY</td>\n",
       "      <td>HOUSING</td>\n",
       "      <td>38.5705247976085, -76.08614165037464</td>\n",
       "      <td>dqcgktec86uy</td>\n",
       "      <td>right_only</td>\n",
       "    </tr>\n",
       "    <tr>\n",
       "      <th>1007127049-2</th>\n",
       "      <td>NaN</td>\n",
       "      <td>NaN</td>\n",
       "      <td>NaN</td>\n",
       "      <td>NaN</td>\n",
       "      <td>NaN</td>\n",
       "      <td>NaN</td>\n",
       "      <td>NaN</td>\n",
       "      <td>NaN</td>\n",
       "      <td>NaN</td>\n",
       "      <td>NaN</td>\n",
       "      <td>...</td>\n",
       "      <td>NaN</td>\n",
       "      <td>NaN</td>\n",
       "      <td>NaN</td>\n",
       "      <td>NaN</td>\n",
       "      <td>NaN</td>\n",
       "      <td>BRADLEY</td>\n",
       "      <td>HOUSING</td>\n",
       "      <td>38.5705247976085, -76.08614165037464</td>\n",
       "      <td>dqcgktec86uy</td>\n",
       "      <td>right_only</td>\n",
       "    </tr>\n",
       "    <tr>\n",
       "      <th>1007159773</th>\n",
       "      <td>NaN</td>\n",
       "      <td>NaN</td>\n",
       "      <td>NaN</td>\n",
       "      <td>NaN</td>\n",
       "      <td>NaN</td>\n",
       "      <td>NaN</td>\n",
       "      <td>NaN</td>\n",
       "      <td>NaN</td>\n",
       "      <td>NaN</td>\n",
       "      <td>NaN</td>\n",
       "      <td>...</td>\n",
       "      <td>NaN</td>\n",
       "      <td>NaN</td>\n",
       "      <td>NaN</td>\n",
       "      <td>NaN</td>\n",
       "      <td>NaN</td>\n",
       "      <td>NaN</td>\n",
       "      <td>HOUSING</td>\n",
       "      <td>38.56280556455046, -76.08029511712246</td>\n",
       "      <td>dqcgku0h8eup</td>\n",
       "      <td>right_only</td>\n",
       "    </tr>\n",
       "  </tbody>\n",
       "</table>\n",
       "<p>3 rows × 134 columns</p>\n",
       "</div>"
      ],
      "text/plain": [
       "             jurscode  digxcord  digycord ct2010 bg2010 geogcode  ooi resityp  \\\n",
       "acctid                                                                          \n",
       "1007127049-1      NaN       NaN       NaN    NaN    NaN      NaN  NaN     NaN   \n",
       "1007127049-2      NaN       NaN       NaN    NaN    NaN      NaN  NaN     NaN   \n",
       "1007159773        NaN       NaN       NaN    NaN    NaN      NaN  NaN     NaN   \n",
       "\n",
       "             address strtnum  ... other ptype sdatwebadr existing mdpvdate  \\\n",
       "acctid                        ...                                            \n",
       "1007127049-1     NaN     NaN  ...   NaN   NaN        NaN      NaN      NaN   \n",
       "1007127049-2     NaN     NaN  ...   NaN   NaN        NaN      NaN      NaN   \n",
       "1007159773       NaN     NaN  ...   NaN   NaN        NaN      NaN      NaN   \n",
       "\n",
       "             CAN_GROUP CAN_OWNCLASS                              GEOLATLON  \\\n",
       "acctid                                                                       \n",
       "1007127049-1   BRADLEY      HOUSING   38.5705247976085, -76.08614165037464   \n",
       "1007127049-2   BRADLEY      HOUSING   38.5705247976085, -76.08614165037464   \n",
       "1007159773         NaN      HOUSING  38.56280556455046, -76.08029511712246   \n",
       "\n",
       "                   GEOHASH      _merge  \n",
       "acctid                                  \n",
       "1007127049-1  dqcgktec86uy  right_only  \n",
       "1007127049-2  dqcgktec86uy  right_only  \n",
       "1007159773    dqcgku0h8eup  right_only  \n",
       "\n",
       "[3 rows x 134 columns]"
      ]
     },
     "execution_count": 24,
     "metadata": {},
     "output_type": "execute_result"
    }
   ],
   "source": [
    "# View records that coul not be enriched \n",
    "e_merge.query('_merge == \"right_only\"')[e_merge.query('_merge == \"right_only\"')['CAN_OWNCLASS']==\"HOUSING\"]"
   ]
  },
  {
   "cell_type": "markdown",
   "metadata": {
    "id": "ze5X0Ej77qm8"
   },
   "source": [
    "## Step two add assestment fields to sdat\n",
    "\n",
    "### Add the latest assessment data, grabbing it directly from MD Open Data"
   ]
  },
  {
   "cell_type": "code",
   "execution_count": 25,
   "metadata": {
    "colab": {
     "base_uri": "https://localhost:8080/"
    },
    "executionInfo": {
     "elapsed": 7486,
     "status": "ok",
     "timestamp": 1622678819641,
     "user": {
      "displayName": "Greg Boss",
      "photoUrl": "https://lh3.googleusercontent.com/a-/AOh14GhhPRqwW_ulxUDi6EQAkiXmGudYqOEjCM8qKreBDbc=s64",
      "userId": "12328185785963342708"
     },
     "user_tz": 240
    },
    "id": "tp__HajJ7koy",
    "outputId": "cf852373-fafb-4b6e-8815-daf640b647ab"
   },
   "outputs": [
    {
     "name": "stderr",
     "output_type": "stream",
     "text": [
      "/opt/anaconda3/lib/python3.8/site-packages/IPython/core/interactiveshell.py:3146: DtypeWarning: Columns (25,31,38,39,41,42,63,166,172,211,212) have mixed types.Specify dtype option on import or set low_memory=False.\n",
      "  has_raised = await self.run_ast_nodes(code_ast.body, cell_name,\n"
     ]
    }
   ],
   "source": [
    "assessments = pd.read_csv('https://opendata.maryland.gov/resource/ed4q-f8tm.csv?jurisdiction_code_mdp_field_jurscode=DORC&$limit=25000')\n",
    "assessment_fields = ['account_id_mdp_field_acctid','real_property_search_link',\n",
    "                     'search_google_maps_for_this_location',\n",
    "                     'c_a_m_a_system_data_structure_area_sq_ft_mdp_field_sqftstrc_sdat_field_241',\n",
    "                     'current_assessment_year_total_phase_in_value_sdat_field_171',\n",
    "                     'c_a_m_a_system_data_year_built_yyyy_mdp_field_yearblt_sdat_field_235',\n",
    "                     'premise_address_number_mdp_field_premsnum_sdat_field_20',\n",
    "                     'premise_address_number_suffix_sdat_field_21',\n",
    "                     'premise_address_direction_mdp_field_premsdir_sdat_field_22',\n",
    "                     'premise_address_name_mdp_field_premsnam_sdat_field_23',\n",
    "                     'premise_address_type_mdp_field_premstyp_sdat_field_24',\n",
    "                     'premise_address_city_mdp_field_premcity_sdat_field_25',\n",
    "                     'premise_address_zip_code_mdp_field_premzip_sdat_field_26',\n",
    "                     'mdp_street_address_mdp_field_address']\n",
    "assessments = assessments[assessment_fields]\n",
    "assessment_column_names = ['acctid','sdat','google_maps','struct_sqft',\\\n",
    "                           'assessed_value','address_number','address_unit_id','street_direction',\\\n",
    "                           'street_name','street_type']\n",
    "assessments.rename(columns=dict(zip(assessment_fields,assessment_column_names)),inplace=True)\n",
    "assessments.acctid = assessments.acctid.astype(str)\n",
    "assessments.set_index('acctid',inplace=True)"
   ]
  },
  {
   "cell_type": "markdown",
   "metadata": {},
   "source": [
    "### Merge updated SDAT and assestment data"
   ]
  },
  {
   "cell_type": "code",
   "execution_count": 42,
   "metadata": {
    "colab": {
     "base_uri": "https://localhost:8080/"
    },
    "executionInfo": {
     "elapsed": 856,
     "status": "ok",
     "timestamp": 1622680053905,
     "user": {
      "displayName": "Greg Boss",
      "photoUrl": "https://lh3.googleusercontent.com/a-/AOh14GhhPRqwW_ulxUDi6EQAkiXmGudYqOEjCM8qKreBDbc=s64",
      "userId": "12328185785963342708"
     },
     "user_tz": 240
    },
    "id": "hflip00yyueh",
    "outputId": "e552c53a-f6ca-4d54-960c-53832b71ea27"
   },
   "outputs": [
    {
     "name": "stdout",
     "output_type": "stream",
     "text": [
      "SDAT has  23202 records.  After the join there are: 23202\n"
     ]
    }
   ],
   "source": [
    "sdat_plus_assessments = merged_df.merge(assessments,how='outer', \\\n",
    "                                        left_index=True, right_index=True,indicator=True)\n",
    "print(\"SDAT has \",len(merged_df), \"records.  After the join there are:\",\\\n",
    "      len(sdat_plus_assessments.query('_merge == \"both\"')))"
   ]
  },
  {
   "cell_type": "markdown",
   "metadata": {
    "id": "UlmHqPBc7yly"
   },
   "source": [
    "## Step three - Save merged data for later use \n",
    "\n",
    "### Write the combined data set out for use later."
   ]
  },
  {
   "cell_type": "code",
   "execution_count": 47,
   "metadata": {
    "executionInfo": {
     "elapsed": 1798,
     "status": "ok",
     "timestamp": 1622680204994,
     "user": {
      "displayName": "Greg Boss",
      "photoUrl": "https://lh3.googleusercontent.com/a-/AOh14GhhPRqwW_ulxUDi6EQAkiXmGudYqOEjCM8qKreBDbc=s64",
      "userId": "12328185785963342708"
     },
     "user_tz": 240
    },
    "id": "kBzadUoW5cZ6"
   },
   "outputs": [],
   "source": [
    "sdat_plus_assessments.query('_merge == \"both\"')\\\n",
    "            .drop(columns='_merge')\\\n",
    "            .to_csv(path+output_fn)"
   ]
  },
  {
   "cell_type": "code",
   "execution_count": null,
   "metadata": {
    "id": "jmht5IxUQWkU"
   },
   "outputs": [],
   "source": []
  }
 ],
 "metadata": {
  "colab": {
   "authorship_tag": "ABX9TyPQsWIqA6dHfIRu+GoBBszF",
   "collapsed_sections": [],
   "name": "sdat_etl.ipynb",
   "provenance": []
  },
  "kernelspec": {
   "display_name": "Python 3",
   "language": "python",
   "name": "python3"
  },
  "language_info": {
   "codemirror_mode": {
    "name": "ipython",
    "version": 3
   },
   "file_extension": ".py",
   "mimetype": "text/x-python",
   "name": "python",
   "nbconvert_exporter": "python",
   "pygments_lexer": "ipython3",
   "version": "3.8.5"
  }
 },
 "nbformat": 4,
 "nbformat_minor": 1
}
